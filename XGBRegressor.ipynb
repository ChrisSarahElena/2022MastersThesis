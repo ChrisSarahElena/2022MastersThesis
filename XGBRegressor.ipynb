{
 "cells": [
  {
   "cell_type": "code",
   "execution_count": 1,
   "id": "5852e406",
   "metadata": {
    "scrolled": true
   },
   "outputs": [
    {
     "name": "stdout",
     "output_type": "stream",
     "text": [
      "Requirement already satisfied: pandas in c:\\users\\sarah\\anaconda3\\envs\\my-conda-env\\lib\\site-packages (1.4.1)\n",
      "Requirement already satisfied: numpy>=1.18.5 in c:\\users\\sarah\\anaconda3\\envs\\my-conda-env\\lib\\site-packages (from pandas) (1.21.6)\n",
      "Requirement already satisfied: pytz>=2020.1 in c:\\users\\sarah\\anaconda3\\envs\\my-conda-env\\lib\\site-packages (from pandas) (2021.3)\n",
      "Requirement already satisfied: python-dateutil>=2.8.1 in c:\\users\\sarah\\anaconda3\\envs\\my-conda-env\\lib\\site-packages (from pandas) (2.8.2)\n",
      "Requirement already satisfied: six>=1.5 in c:\\users\\sarah\\anaconda3\\envs\\my-conda-env\\lib\\site-packages (from python-dateutil>=2.8.1->pandas) (1.16.0)\n",
      "Note: you may need to restart the kernel to use updated packages.\n"
     ]
    }
   ],
   "source": [
    "pip install pandas"
   ]
  },
  {
   "cell_type": "code",
   "execution_count": 2,
   "id": "255f6240",
   "metadata": {},
   "outputs": [
    {
     "name": "stdout",
     "output_type": "stream",
     "text": [
      "Requirement already satisfied: xlrd in c:\\users\\sarah\\anaconda3\\envs\\my-conda-env\\lib\\site-packages (2.0.1)\n",
      "Note: you may need to restart the kernel to use updated packages.\n"
     ]
    }
   ],
   "source": [
    "pip install xlrd"
   ]
  },
  {
   "cell_type": "code",
   "execution_count": 3,
   "id": "6e604157",
   "metadata": {},
   "outputs": [],
   "source": [
    "import pandas as pd\n",
    "df_train = pd.read_excel(\"C:\\\\Users\\\\Sarah\\\\Desktop\\\\Thesis\\\\TestTrainSets\\\\Original_Dataset_No_Weather_TRAIN.xlsx\")\n",
    "\n",
    "df_test = pd.read_excel(\"C:\\\\Users\\\\Sarah\\\\Desktop\\\\Thesis\\\\TestTrainSets\\\\Original_Dataset_No_Weather_TEST.xlsx\")"
   ]
  },
  {
   "cell_type": "code",
   "execution_count": 4,
   "id": "ecb2294d",
   "metadata": {},
   "outputs": [
    {
     "name": "stdout",
     "output_type": "stream",
     "text": [
      "Requirement already satisfied: scikit-learn in c:\\users\\sarah\\anaconda3\\envs\\my-conda-env\\lib\\site-packages (1.0.2)\n",
      "Requirement already satisfied: scipy>=1.1.0 in c:\\users\\sarah\\anaconda3\\envs\\my-conda-env\\lib\\site-packages (from scikit-learn) (1.8.0)\n",
      "Requirement already satisfied: joblib>=0.11 in c:\\users\\sarah\\anaconda3\\envs\\my-conda-env\\lib\\site-packages (from scikit-learn) (1.1.0)\n",
      "Requirement already satisfied: numpy>=1.14.6 in c:\\users\\sarah\\anaconda3\\envs\\my-conda-env\\lib\\site-packages (from scikit-learn) (1.21.6)\n",
      "Requirement already satisfied: threadpoolctl>=2.0.0 in c:\\users\\sarah\\anaconda3\\envs\\my-conda-env\\lib\\site-packages (from scikit-learn) (3.1.0)\n",
      "Note: you may need to restart the kernel to use updated packages.\n"
     ]
    }
   ],
   "source": [
    "pip install scikit-learn"
   ]
  },
  {
   "cell_type": "code",
   "execution_count": 5,
   "id": "371509c0",
   "metadata": {},
   "outputs": [
    {
     "name": "stdout",
     "output_type": "stream",
     "text": [
      "Requirement already satisfied: xgboost in c:\\users\\sarah\\anaconda3\\envs\\my-conda-env\\lib\\site-packages (1.5.2)\n",
      "Requirement already satisfied: numpy in c:\\users\\sarah\\anaconda3\\envs\\my-conda-env\\lib\\site-packages (from xgboost) (1.21.6)\n",
      "Requirement already satisfied: scipy in c:\\users\\sarah\\anaconda3\\envs\\my-conda-env\\lib\\site-packages (from xgboost) (1.8.0)\n",
      "Note: you may need to restart the kernel to use updated packages.\n"
     ]
    }
   ],
   "source": [
    "pip install xgboost"
   ]
  },
  {
   "cell_type": "code",
   "execution_count": 6,
   "id": "b54e1294",
   "metadata": {},
   "outputs": [
    {
     "name": "stdout",
     "output_type": "stream",
     "text": [
      "Requirement already satisfied: xlwt in c:\\users\\sarah\\anaconda3\\envs\\my-conda-env\\lib\\site-packages (1.3.0)\n",
      "Note: you may need to restart the kernel to use updated packages.\n"
     ]
    }
   ],
   "source": [
    "pip install xlwt"
   ]
  },
  {
   "cell_type": "code",
   "execution_count": 7,
   "id": "c310b610",
   "metadata": {},
   "outputs": [],
   "source": [
    "import xlwt"
   ]
  },
  {
   "cell_type": "code",
   "execution_count": 8,
   "id": "07a11173",
   "metadata": {},
   "outputs": [
    {
     "name": "stderr",
     "output_type": "stream",
     "text": [
      "C:\\Users\\Sarah\\anaconda3\\envs\\my-conda-env\\lib\\site-packages\\xgboost\\compat.py:36: FutureWarning: pandas.Int64Index is deprecated and will be removed from pandas in a future version. Use pandas.Index with the appropriate dtype instead.\n",
      "  from pandas import MultiIndex, Int64Index\n"
     ]
    }
   ],
   "source": [
    "from xgboost import XGBRegressor"
   ]
  },
  {
   "cell_type": "code",
   "execution_count": 9,
   "id": "8dab8a03",
   "metadata": {},
   "outputs": [],
   "source": [
    "from sklearn.model_selection import cross_val_score, KFold\n",
    "\n"
   ]
  },
  {
   "cell_type": "code",
   "execution_count": 10,
   "id": "e2c029a6",
   "metadata": {},
   "outputs": [],
   "source": [
    "from sklearn.metrics import mean_squared_error"
   ]
  },
  {
   "cell_type": "code",
   "execution_count": 11,
   "id": "7c2bfa7c",
   "metadata": {},
   "outputs": [],
   "source": [
    "import numpy as np"
   ]
  },
  {
   "cell_type": "code",
   "execution_count": 12,
   "id": "983bae46",
   "metadata": {
    "scrolled": false
   },
   "outputs": [
    {
     "name": "stdout",
     "output_type": "stream",
     "text": [
      "XGBRegressor(base_score=None, booster='gbtree', colsample_bylevel=None,\n",
      "             colsample_bynode=None, colsample_bytree=None,\n",
      "             early_stopping_rounds=10, enable_categorical=False,\n",
      "             eval_metric='mae', gamma=None, gpu_id=None, importance_type=None,\n",
      "             interaction_constraints=None, learning_rate=None,\n",
      "             max_delta_step=None, max_depth=None, min_child_weight=None,\n",
      "             missing=nan, monotone_constraints=None, n_estimators=100,\n",
      "             n_jobs=None, num_boost_round=999, num_parallel_tree=None,\n",
      "             predictor=None, random_state=None, reg_alpha=None, reg_lambda=None,\n",
      "             scale_pos_weight=None, subsample=None, tree_method=None,\n",
      "             validate_parameters=None, ...)\n",
      "Training score:  0.40847865606130696\n"
     ]
    }
   ],
   "source": [
    "from xgboost import XGBRegressor\n",
    "from sklearn.model_selection import cross_val_score, KFold\n",
    "from sklearn.model_selection import train_test_split\n",
    "from sklearn.metrics import mean_squared_error\n",
    "from sklearn.metrics import accuracy_score\n",
    "import numpy as np\n",
    "\n",
    "seed = 40\n",
    "test_size = 0.2\n",
    "\n",
    "knn_r_acc = []\n",
    "\n",
    "y_train = df_train['Total'].values\n",
    "y_test = df_test['Total'].values\n",
    "\n",
    "\n",
    "X_train = df_train[['Event_Code', 'Longitude', 'MesoregionCode', 'MicroregionCode','MunicipalityCode', 'isSummer'\n",
    "\n",
    "\n",
    "\n",
    "\n",
    "\n",
    "\n",
    "]].values\n",
    "\n",
    "\n",
    "\n",
    "X_test = df_test[['Event_Code', 'Longitude', 'MesoregionCode', 'MicroregionCode','MunicipalityCode', 'isSummer'\n",
    "\n",
    "\n",
    "\n",
    "\n",
    "]].values\n",
    "    \n",
    "xgbr = XGBRegressor(verbosity=0, booster = \"gbtree\", eval_metric = \"mae\", num_boost_round = 999, early_stopping_rounds=10) \n",
    "print(xgbr)\n",
    "xgbr.fit(X_train, y_train)\n",
    "score = xgbr.score(X_train, y_train)  \n",
    "print(\"Training score: \", score)\n",
    "\n",
    "ypred = xgbr.predict(X_test)\n",
    "\n",
    "\n",
    "\n",
    "\n"
   ]
  },
  {
   "cell_type": "code",
   "execution_count": 13,
   "id": "579cc229",
   "metadata": {},
   "outputs": [],
   "source": [
    "import numpy as np\n",
    "import pandas as pd"
   ]
  },
  {
   "cell_type": "code",
   "execution_count": 14,
   "id": "644884f5",
   "metadata": {},
   "outputs": [
    {
     "name": "stdout",
     "output_type": "stream",
     "text": [
      "1.9315115525980162\n",
      "RMSE: 957.38\n"
     ]
    }
   ],
   "source": [
    "#WAPE and RMSE\n",
    "\n",
    "wape = np.sum(abs(y_test- ypred)) / np.array(y_test).sum()\n",
    "\n",
    "print(wape)\n",
    "\n",
    "mse = mean_squared_error(y_test, ypred)\n",
    "print(\"RMSE: %.2f\" % (mse**(1/2.0)))\n"
   ]
  },
  {
   "cell_type": "code",
   "execution_count": 15,
   "id": "22a6db2c",
   "metadata": {},
   "outputs": [
    {
     "name": "stdout",
     "output_type": "stream",
     "text": [
      "Mean absolute error : 218.65832758075499\n",
      "MAE Naive : 190.06428571428572\n",
      "Mean Absolute Scaled Error : 1.1504440550680484\n"
     ]
    }
   ],
   "source": [
    "# Python program for calculating Mean Absolute Error\n",
    "\n",
    "# consider a list of integers for actual\n",
    "actual = y_test\n",
    "\n",
    "# consider a list of integers for actual\n",
    "calculated =  ypred\n",
    "\n",
    "n = len(y_test)\n",
    "sum = 0\n",
    "\n",
    "# for loop for iteration\n",
    "for i in range(n):\n",
    "    sum += abs(actual[i] - calculated[i])\n",
    "\n",
    "error = sum/n\n",
    "\n",
    "# display\n",
    "print(\"Mean absolute error : \" + str(error))\n",
    "\n",
    "#Now create Mean absolute error naive\n",
    "\n",
    "sp = 1\n",
    "\n",
    "y_pred_naive = y_test[:-sp]\n",
    "\n",
    "# mean absolute error of naive seasonal prediction\n",
    "mae_naive = np.mean(np.abs(y_test[sp:] - y_pred_naive))\n",
    "\n",
    "print(\"MAE Naive : \" + str(mae_naive))\n",
    "\n",
    "MASE = str(error/mae_naive)\n",
    "\n",
    "print(\"Mean Absolute Scaled Error : \" + str(error/mae_naive))"
   ]
  },
  {
   "cell_type": "code",
   "execution_count": 16,
   "id": "47524941",
   "metadata": {},
   "outputs": [],
   "source": [
    "NRMSE = (mse**(1/2.0))/np.mean(y_test)\n"
   ]
  },
  {
   "cell_type": "code",
   "execution_count": 17,
   "id": "a51a745c",
   "metadata": {},
   "outputs": [
    {
     "name": "stdout",
     "output_type": "stream",
     "text": [
      "8.457025026197565\n"
     ]
    }
   ],
   "source": [
    "print(NRMSE)"
   ]
  },
  {
   "cell_type": "code",
   "execution_count": 18,
   "id": "8953a1fd",
   "metadata": {},
   "outputs": [],
   "source": [
    "#Now we will do the same code, but with a smaller portion of the dataset, to adjust for distances\n",
    "#split the datasets into the distances and train/test\n",
    "\n",
    "\n",
    "zeroto3k_train = pd.read_excel(\"C:\\\\Users\\\\Sarah\\\\Desktop\\\\Thesis\\\\TestTrainSets\\\\ORIGINAL_Oversampled_TrainSet_0-3km.xlsx\")\n",
    "zeroto35k_train = pd.read_excel(\"C:\\\\Users\\\\Sarah\\\\Desktop\\\\Thesis\\\\TestTrainSets\\\\ORIGINAL_Oversampled_TrainSet_0-35km.xlsx\")\n",
    "zeroto85k_train = pd.read_excel(\"C:\\\\Users\\\\Sarah\\\\Desktop\\\\Thesis\\\\TestTrainSets\\\\ORIGINAL_Oversampled_TrainSet_0-85km.xlsx\")\n",
    "\n",
    "zeroto3k_test = pd.read_excel(\"C:\\\\Users\\\\Sarah\\\\Desktop\\\\Thesis\\\\TestTrainSets\\\\ORIGINAL_TestSet_0-3km.xlsx\")\n",
    "zeroto35k_test = pd.read_excel(\"C:\\\\Users\\\\Sarah\\\\Desktop\\\\Thesis\\\\TestTrainSets\\\\ORIGINAL_TestSet_0-35km.xlsx\")\n",
    "zeroto85k_test = pd.read_excel(\"C:\\\\Users\\\\Sarah\\\\Desktop\\\\Thesis\\\\TestTrainSets\\\\ORIGINAL_TestSet_0-85km.xlsx\")"
   ]
  },
  {
   "cell_type": "code",
   "execution_count": 19,
   "id": "e2d2fe27",
   "metadata": {},
   "outputs": [],
   "source": [
    "y_train = zeroto3k_train['Total'].values\n",
    "y_test = zeroto3k_test['Total'].values\n",
    "\n",
    "\n",
    "X_train = zeroto3k_train[['Extremelypoor2010', 'Verypoor1991', 'Poor2010','IncomePoor1991'\n",
    "\n",
    "\n",
    "\n",
    "\n",
    "]].values\n",
    "\n",
    "\n",
    "\n",
    "X_test = zeroto3k_test[['Extremelypoor2010', 'Verypoor1991', 'Poor2010','IncomePoor1991'\n",
    "\n",
    "\n",
    "\n",
    "\n",
    "]].values"
   ]
  },
  {
   "cell_type": "code",
   "execution_count": 20,
   "id": "309cd803",
   "metadata": {},
   "outputs": [
    {
     "name": "stdout",
     "output_type": "stream",
     "text": [
      "XGBRegressor(base_score=None, booster='gbtree', colsample_bylevel=None,\n",
      "             colsample_bynode=None, colsample_bytree=None,\n",
      "             early_stopping_rounds=10, enable_categorical=False,\n",
      "             eval_metric='mae', gamma=None, gpu_id=None, importance_type=None,\n",
      "             interaction_constraints=None, learning_rate=None,\n",
      "             max_delta_step=None, max_depth=None, min_child_weight=None,\n",
      "             missing=nan, monotone_constraints=None, n_estimators=100,\n",
      "             n_jobs=None, num_boost_round=999, num_parallel_tree=None,\n",
      "             predictor=None, random_state=None, reg_alpha=None, reg_lambda=None,\n",
      "             scale_pos_weight=None, subsample=None, tree_method=None,\n",
      "             validate_parameters=None, ...)\n",
      "Training score:  0.6851769477187777\n"
     ]
    }
   ],
   "source": [
    "#Run model on 0-3k\n",
    "\n",
    "from xgboost import XGBRegressor\n",
    "from sklearn.model_selection import cross_val_score, KFold\n",
    "from sklearn.model_selection import train_test_split\n",
    "from sklearn.metrics import mean_squared_error\n",
    "from sklearn.metrics import accuracy_score\n",
    "import numpy as np\n",
    "\n",
    "seed = 40\n",
    "test_size = 0.2\n",
    "\n",
    "knn_r_acc = []\n",
    "\n",
    "y_train = zeroto3k_train['Deceased'].values\n",
    "y_test = zeroto3k_test['Deceased'].values\n",
    "\n",
    "\n",
    "X_train = zeroto3k_train[['Event_Code', 'MunicipalityCode', 'Poor1991', 'Two_Months_Prior_Station_Longitude'\n",
    "\n",
    "\n",
    "]].values\n",
    "\n",
    "X_test = zeroto3k_test[['Event_Code', 'MunicipalityCode', 'Poor1991', 'Two_Months_Prior_Station_Longitude'\n",
    "\n",
    "\n",
    "]].values\n",
    "    \n",
    "xgbr = XGBRegressor(verbosity=0, booster = \"gbtree\", eval_metric = \"mae\", num_boost_round = 999, early_stopping_rounds=10) \n",
    "print(xgbr)\n",
    "xgbr.fit(X_train, y_train)\n",
    "score = xgbr.score(X_train, y_train)  \n",
    "print(\"Training score: \", score)\n",
    "\n",
    "ypred = xgbr.predict(X_test)\n"
   ]
  },
  {
   "cell_type": "code",
   "execution_count": 21,
   "id": "9035cb1e",
   "metadata": {},
   "outputs": [
    {
     "name": "stdout",
     "output_type": "stream",
     "text": [
      "15.853214256665003\n",
      "RMSE: 2.78\n"
     ]
    }
   ],
   "source": [
    "#WAPE and RMSE\n",
    "\n",
    "wape = np.sum(abs(y_test- ypred)) / np.array(y_test).sum()\n",
    "\n",
    "print(wape)\n",
    "\n",
    "mse = mean_squared_error(y_test, ypred)\n",
    "print(\"RMSE: %.2f\" % (mse**(1/2.0)))\n"
   ]
  },
  {
   "cell_type": "code",
   "execution_count": 22,
   "id": "854ea724",
   "metadata": {},
   "outputs": [
    {
     "name": "stdout",
     "output_type": "stream",
     "text": [
      "Mean absolute error : 0.7147987104454431\n",
      "MAE Naive : 0.07419354838709677\n",
      "Mean Absolute Scaled Error : 9.634243488612494\n"
     ]
    }
   ],
   "source": [
    "# Python program for calculating Mean Absolute Error\n",
    "\n",
    "# consider a list of integers for actual\n",
    "actual = y_test\n",
    "\n",
    "# consider a list of integers for actual\n",
    "calculated =  ypred\n",
    "\n",
    "n = len(y_test)\n",
    "sum = 0\n",
    "\n",
    "# for loop for iteration\n",
    "for i in range(n):\n",
    "    sum += abs(actual[i] - calculated[i])\n",
    "\n",
    "error = sum/n\n",
    "\n",
    "# display\n",
    "print(\"Mean absolute error : \" + str(error))\n",
    "\n",
    "#Now create Mean absolute error naive\n",
    "\n",
    "sp = 1\n",
    "\n",
    "y_pred_naive = y_test[:-sp]\n",
    "\n",
    "# mean absolute error of naive seasonal prediction\n",
    "mae_naive = np.mean(np.abs(y_test[sp:] - y_pred_naive))\n",
    "\n",
    "print(\"MAE Naive : \" + str(mae_naive))\n",
    "\n",
    "MASE = str(error/mae_naive)\n",
    "\n",
    "print(\"Mean Absolute Scaled Error : \" + str(error/mae_naive))"
   ]
  },
  {
   "cell_type": "code",
   "execution_count": 23,
   "id": "4f8fedde",
   "metadata": {},
   "outputs": [
    {
     "name": "stdout",
     "output_type": "stream",
     "text": [
      "61.61544769968319\n"
     ]
    }
   ],
   "source": [
    "NRMSE = (mse**(1/2.0))/np.mean(y_test)\n",
    "print(NRMSE)"
   ]
  },
  {
   "cell_type": "code",
   "execution_count": 24,
   "id": "073d9634",
   "metadata": {},
   "outputs": [
    {
     "name": "stdout",
     "output_type": "stream",
     "text": [
      "XGBRegressor(base_score=None, booster='gbtree', colsample_bylevel=None,\n",
      "             colsample_bynode=None, colsample_bytree=None,\n",
      "             early_stopping_rounds=10, enable_categorical=False,\n",
      "             eval_metric='mae', gamma=None, gpu_id=None, importance_type=None,\n",
      "             interaction_constraints=None, learning_rate=None,\n",
      "             max_delta_step=None, max_depth=None, min_child_weight=None,\n",
      "             missing=nan, monotone_constraints=None, n_estimators=100,\n",
      "             n_jobs=None, num_boost_round=999, num_parallel_tree=None,\n",
      "             predictor=None, random_state=None, reg_alpha=None, reg_lambda=None,\n",
      "             scale_pos_weight=None, subsample=None, tree_method=None,\n",
      "             validate_parameters=None, ...)\n",
      "Training score:  0.8643316259961757\n"
     ]
    }
   ],
   "source": [
    "#Run Model on 0-35k\n",
    "from xgboost import XGBRegressor\n",
    "from sklearn.model_selection import cross_val_score, KFold\n",
    "from sklearn.model_selection import train_test_split\n",
    "from sklearn.metrics import mean_squared_error\n",
    "from sklearn.metrics import accuracy_score\n",
    "import numpy as np\n",
    "\n",
    "seed = 40\n",
    "test_size = 0.2\n",
    "\n",
    "knn_r_acc = []\n",
    "\n",
    "y_train = zeroto35k_train['Deceased'].values\n",
    "y_test = zeroto35k_test['Deceased'].values\n",
    "\n",
    "\n",
    "X_train = zeroto35k_train[['Event_Code', 'MunicipalityCode', 'Poor1991', 'Two_Months_Prior_Station_Longitude'\n",
    "\n",
    "\n",
    "\n",
    "]].values\n",
    "\n",
    "X_test = zeroto35k_test[['Event_Code', 'MunicipalityCode', 'Poor1991', 'Two_Months_Prior_Station_Longitude'\n",
    "\n",
    "\n",
    "\n",
    "]].values\n",
    "    \n",
    "xgbr = XGBRegressor(verbosity=0, booster = \"gbtree\", eval_metric = \"mae\", num_boost_round = 999, early_stopping_rounds=10) \n",
    "print(xgbr)\n",
    "xgbr.fit(X_train, y_train)\n",
    "score = xgbr.score(X_train, y_train)  \n",
    "print(\"Training score: \", score)\n",
    "\n",
    "ypred = xgbr.predict(X_test)"
   ]
  },
  {
   "cell_type": "code",
   "execution_count": 25,
   "id": "59f1f998",
   "metadata": {},
   "outputs": [
    {
     "name": "stdout",
     "output_type": "stream",
     "text": [
      "19.55906591964801\n",
      "RMSE: 12.24\n"
     ]
    }
   ],
   "source": [
    "#WAPE and RMSE\n",
    "\n",
    "wape = np.sum(abs(y_test- ypred)) / np.array(y_test).sum()\n",
    "\n",
    "print(wape)\n",
    "\n",
    "mse = mean_squared_error(y_test, ypred)\n",
    "print(\"RMSE: %.2f\" % (mse**(1/2.0)))\n"
   ]
  },
  {
   "cell_type": "code",
   "execution_count": 26,
   "id": "96f375b3",
   "metadata": {},
   "outputs": [
    {
     "name": "stdout",
     "output_type": "stream",
     "text": [
      "Mean absolute error : 1.1852673265542535\n",
      "MAE Naive : 0.10182940268900155\n",
      "Mean Absolute Scaled Error : 11.639735628953783\n"
     ]
    }
   ],
   "source": [
    "# Python program for calculating Mean Absolute Error\n",
    "\n",
    "# consider a list of integers for actual\n",
    "actual = y_test\n",
    "\n",
    "# consider a list of integers for actual\n",
    "calculated =  ypred\n",
    "\n",
    "n = len(y_test)\n",
    "sum = 0\n",
    "\n",
    "# for loop for iteration\n",
    "for i in range(n):\n",
    "    sum += abs(actual[i] - calculated[i])\n",
    "\n",
    "error = sum/n\n",
    "\n",
    "# display\n",
    "print(\"Mean absolute error : \" + str(error))\n",
    "\n",
    "#Now create Mean absolute error naive\n",
    "\n",
    "sp = 1\n",
    "\n",
    "y_pred_naive = y_test[:-sp]\n",
    "\n",
    "# mean absolute error of naive seasonal prediction\n",
    "mae_naive = np.mean(np.abs(y_test[sp:] - y_pred_naive))\n",
    "\n",
    "print(\"MAE Naive : \" + str(mae_naive))\n",
    "\n",
    "MASE = str(error/mae_naive)\n",
    "\n",
    "print(\"Mean Absolute Scaled Error : \" + str(error/mae_naive))"
   ]
  },
  {
   "cell_type": "code",
   "execution_count": 27,
   "id": "a3456d59",
   "metadata": {},
   "outputs": [
    {
     "name": "stdout",
     "output_type": "stream",
     "text": [
      "201.99235233214216\n"
     ]
    }
   ],
   "source": [
    "NRMSE = (mse**(1/2.0))/np.mean(y_test)\n",
    "print(NRMSE)"
   ]
  },
  {
   "cell_type": "code",
   "execution_count": 28,
   "id": "be83aab8",
   "metadata": {},
   "outputs": [
    {
     "name": "stdout",
     "output_type": "stream",
     "text": [
      "XGBRegressor(base_score=None, booster='gbtree', colsample_bylevel=None,\n",
      "             colsample_bynode=None, colsample_bytree=None,\n",
      "             early_stopping_rounds=10, enable_categorical=False,\n",
      "             eval_metric='mae', gamma=None, gpu_id=None, importance_type=None,\n",
      "             interaction_constraints=None, learning_rate=None,\n",
      "             max_delta_step=None, max_depth=None, min_child_weight=None,\n",
      "             missing=nan, monotone_constraints=None, n_estimators=100,\n",
      "             n_jobs=None, num_boost_round=999, num_parallel_tree=None,\n",
      "             predictor=None, random_state=None, reg_alpha=None, reg_lambda=None,\n",
      "             scale_pos_weight=None, subsample=None, tree_method=None,\n",
      "             validate_parameters=None, ...)\n",
      "Training score:  0.4911957861767311\n"
     ]
    }
   ],
   "source": [
    "#Run Model on 0-85k\n",
    "from xgboost import XGBRegressor\n",
    "from sklearn.model_selection import cross_val_score, KFold\n",
    "from sklearn.model_selection import train_test_split\n",
    "from sklearn.metrics import mean_squared_error\n",
    "from sklearn.metrics import accuracy_score\n",
    "import numpy as np\n",
    "\n",
    "seed = 40\n",
    "test_size = 0.2\n",
    "\n",
    "knn_r_acc = []\n",
    "\n",
    "y_train = zeroto85k_train['Deceased'].values\n",
    "y_test = zeroto85k_test['Deceased'].values\n",
    "\n",
    "\n",
    "X_train = zeroto85k_train[['Event_Code', 'MunicipalityCode', 'Poor1991', 'Two_Months_Prior_Station_Longitude'\n",
    "\n",
    "\n",
    "]].values\n",
    "\n",
    "X_test = zeroto85k_test[['Event_Code', 'MunicipalityCode', 'Poor1991', 'Two_Months_Prior_Station_Longitude'\n",
    "\n",
    "\n",
    "\n",
    "\n",
    "]].values\n",
    "    \n",
    "xgbr = XGBRegressor(verbosity=0, booster = \"gbtree\", eval_metric = \"mae\", num_boost_round = 999, early_stopping_rounds=10) \n",
    "print(xgbr)\n",
    "xgbr.fit(X_train, y_train)\n",
    "score = xgbr.score(X_train, y_train)  \n",
    "print(\"Training score: \", score)\n",
    "\n",
    "ypred = xgbr.predict(X_test)\n",
    "\n"
   ]
  },
  {
   "cell_type": "code",
   "execution_count": 29,
   "id": "6274516a",
   "metadata": {
    "scrolled": true
   },
   "outputs": [
    {
     "name": "stdout",
     "output_type": "stream",
     "text": [
      "32.47403071831912\n",
      "RMSE: 26.53\n"
     ]
    }
   ],
   "source": [
    "#WAPE and RMSE\n",
    "\n",
    "wape = np.sum(abs(y_test- ypred)) / np.array(y_test).sum()\n",
    "\n",
    "print(wape)\n",
    "\n",
    "mse = mean_squared_error(y_test, ypred)\n",
    "print(\"RMSE: %.2f\" % (mse**(1/2.0)))\n"
   ]
  },
  {
   "cell_type": "code",
   "execution_count": 30,
   "id": "ed6cb254",
   "metadata": {},
   "outputs": [
    {
     "name": "stdout",
     "output_type": "stream",
     "text": [
      "Mean absolute error : 1.2422386986174334\n",
      "MAE Naive : 0.06709829311359623\n",
      "Mean Absolute Scaled Error : 18.51371534167561\n"
     ]
    }
   ],
   "source": [
    "# Python program for calculating Mean Absolute Error\n",
    "\n",
    "# consider a list of integers for actual\n",
    "actual = y_test\n",
    "\n",
    "# consider a list of integers for actual\n",
    "calculated =  ypred\n",
    "\n",
    "n = len(y_test)\n",
    "sum = 0\n",
    "\n",
    "# for loop for iteration\n",
    "for i in range(n):\n",
    "    sum += abs(actual[i] - calculated[i])\n",
    "\n",
    "error = sum/n\n",
    "\n",
    "# display\n",
    "print(\"Mean absolute error : \" + str(error))\n",
    "\n",
    "#Now create Mean absolute error naive\n",
    "\n",
    "sp = 1\n",
    "\n",
    "y_pred_naive = y_test[:-sp]\n",
    "\n",
    "# mean absolute error of naive seasonal prediction\n",
    "mae_naive = np.mean(np.abs(y_test[sp:] - y_pred_naive))\n",
    "\n",
    "print(\"MAE Naive : \" + str(mae_naive))\n",
    "\n",
    "MASE = str(error/mae_naive)\n",
    "\n",
    "print(\"Mean Absolute Scaled Error : \" + str(error/mae_naive))"
   ]
  },
  {
   "cell_type": "code",
   "execution_count": 31,
   "id": "b63c2af7",
   "metadata": {},
   "outputs": [],
   "source": [
    "NRMSE = (mse**(1/2.0))/np.mean(y_test)"
   ]
  },
  {
   "cell_type": "code",
   "execution_count": 32,
   "id": "f5092570",
   "metadata": {},
   "outputs": [
    {
     "name": "stdout",
     "output_type": "stream",
     "text": [
      "693.523295186669\n"
     ]
    }
   ],
   "source": [
    "print(NRMSE)"
   ]
  },
  {
   "cell_type": "code",
   "execution_count": null,
   "id": "ef3986ca",
   "metadata": {},
   "outputs": [],
   "source": []
  }
 ],
 "metadata": {
  "kernelspec": {
   "display_name": "Python 3 (ipykernel)",
   "language": "python",
   "name": "python3"
  },
  "language_info": {
   "codemirror_mode": {
    "name": "ipython",
    "version": 3
   },
   "file_extension": ".py",
   "mimetype": "text/x-python",
   "name": "python",
   "nbconvert_exporter": "python",
   "pygments_lexer": "ipython3",
   "version": "3.9.7"
  }
 },
 "nbformat": 4,
 "nbformat_minor": 5
}
