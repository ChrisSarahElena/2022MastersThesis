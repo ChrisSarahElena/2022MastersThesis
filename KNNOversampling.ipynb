{
 "cells": [
  {
   "cell_type": "code",
   "execution_count": 146,
   "id": "a96ac493",
   "metadata": {},
   "outputs": [
    {
     "name": "stdout",
     "output_type": "stream",
     "text": [
      "Requirement already satisfied: pandas in c:\\users\\sarah\\anaconda3\\envs\\my-conda-env\\lib\\site-packages (1.4.1)\n",
      "Requirement already satisfied: numpy>=1.18.5 in c:\\users\\sarah\\anaconda3\\envs\\my-conda-env\\lib\\site-packages (from pandas) (1.21.6)\n",
      "Requirement already satisfied: pytz>=2020.1 in c:\\users\\sarah\\anaconda3\\envs\\my-conda-env\\lib\\site-packages (from pandas) (2021.3)\n",
      "Requirement already satisfied: python-dateutil>=2.8.1 in c:\\users\\sarah\\anaconda3\\envs\\my-conda-env\\lib\\site-packages (from pandas) (2.8.2)\n",
      "Requirement already satisfied: six>=1.5 in c:\\users\\sarah\\anaconda3\\envs\\my-conda-env\\lib\\site-packages (from python-dateutil>=2.8.1->pandas) (1.16.0)\n",
      "Note: you may need to restart the kernel to use updated packages.\n"
     ]
    }
   ],
   "source": [
    "pip install pandas"
   ]
  },
  {
   "cell_type": "code",
   "execution_count": 147,
   "id": "a6817a3d",
   "metadata": {},
   "outputs": [
    {
     "name": "stdout",
     "output_type": "stream",
     "text": [
      "Requirement already satisfied: xlrd in c:\\users\\sarah\\anaconda3\\envs\\my-conda-env\\lib\\site-packages (2.0.1)\n",
      "Note: you may need to restart the kernel to use updated packages.\n"
     ]
    }
   ],
   "source": [
    "pip install xlrd"
   ]
  },
  {
   "cell_type": "code",
   "execution_count": 148,
   "id": "9ac065d6",
   "metadata": {},
   "outputs": [],
   "source": [
    "import pandas as pd"
   ]
  },
  {
   "cell_type": "code",
   "execution_count": 149,
   "id": "25b17859",
   "metadata": {},
   "outputs": [],
   "source": [
    "df_train = pd.read_excel(\"C:\\\\Users\\\\Sarah\\\\Desktop\\\\Thesis\\\\TestTrainSets\\\\Original_Dataset_No_Weather_TRAIN.xlsx\")\n",
    "\n",
    "df_test = pd.read_excel(\"C:\\\\Users\\\\Sarah\\\\Desktop\\\\Thesis\\\\TestTrainSets\\\\Original_Dataset_No_Weather_TEST.xlsx\")"
   ]
  },
  {
   "cell_type": "code",
   "execution_count": 150,
   "id": "85c920aa",
   "metadata": {},
   "outputs": [
    {
     "name": "stdout",
     "output_type": "stream",
     "text": [
      "Requirement already satisfied: scikit-learn in c:\\users\\sarah\\anaconda3\\envs\\my-conda-env\\lib\\site-packages (1.0.2)Note: you may need to restart the kernel to use updated packages.\n",
      "\n",
      "Requirement already satisfied: joblib>=0.11 in c:\\users\\sarah\\anaconda3\\envs\\my-conda-env\\lib\\site-packages (from scikit-learn) (1.1.0)\n",
      "Requirement already satisfied: threadpoolctl>=2.0.0 in c:\\users\\sarah\\anaconda3\\envs\\my-conda-env\\lib\\site-packages (from scikit-learn) (3.1.0)\n",
      "Requirement already satisfied: numpy>=1.14.6 in c:\\users\\sarah\\anaconda3\\envs\\my-conda-env\\lib\\site-packages (from scikit-learn) (1.21.6)\n",
      "Requirement already satisfied: scipy>=1.1.0 in c:\\users\\sarah\\anaconda3\\envs\\my-conda-env\\lib\\site-packages (from scikit-learn) (1.8.0)\n"
     ]
    }
   ],
   "source": [
    "pip install scikit-learn"
   ]
  },
  {
   "cell_type": "code",
   "execution_count": 151,
   "id": "cce228c4",
   "metadata": {},
   "outputs": [
    {
     "name": "stdout",
     "output_type": "stream",
     "text": [
      "       Event_Code  Type_Code  Deceased  isDeceased  Injured  Sick  Homeless  \\\n",
      "0           12200          1         0           0        0     0         0   \n",
      "1           13213          1         0           0        0     0         0   \n",
      "2           12200          1         0           0        0     0         0   \n",
      "3           12200          1         0           0        0     0         0   \n",
      "4           14110          1         0           0        0     0         0   \n",
      "...           ...        ...       ...         ...      ...   ...       ...   \n",
      "35558       14110          1         0           0        0     0         0   \n",
      "35559       14110          1         0           0        0     0         0   \n",
      "35560       14110          1         0           0        0     0         0   \n",
      "35561       14110          1         0           0        0     0         0   \n",
      "35562       14110          1         0           0        0     0         0   \n",
      "\n",
      "       Displaced  MissingPeople  Total  ...  IncomeExtremelypoor2000  \\\n",
      "0              0              0      0  ...                    43.04   \n",
      "1            102              0    102  ...                    43.58   \n",
      "2              0              0      0  ...                    37.84   \n",
      "3              0              0      0  ...                    35.55   \n",
      "4              0              0      0  ...                    34.15   \n",
      "...          ...            ...    ...  ...                      ...   \n",
      "35558          0              0      0  ...                    39.49   \n",
      "35559          0              0      0  ...                    40.33   \n",
      "35560          0              0      0  ...                    32.67   \n",
      "35561          0              0      0  ...                    34.78   \n",
      "35562          0              0      0  ...                    26.93   \n",
      "\n",
      "       IncomeExtremelypoor2010  IncomeVerypoor1991  IncomeVerypoor2000  \\\n",
      "0                        21.86               63.66               80.30   \n",
      "1                        21.86               84.22               87.96   \n",
      "2                        29.01               70.38               75.15   \n",
      "3                        43.09               77.62               78.53   \n",
      "4                        27.12               67.59               77.21   \n",
      "...                        ...                 ...                 ...   \n",
      "35558                    36.43               45.74               66.94   \n",
      "35559                    31.23               47.54               65.47   \n",
      "35560                    37.57               59.58               64.32   \n",
      "35561                    29.89               63.86               62.06   \n",
      "35562                    32.13               46.51               54.12   \n",
      "\n",
      "       IncomeVerypoor2010  IncomePoor1991  IncomePoor2000  IncomePoor2010  \\\n",
      "0                   62.25           97.14          125.49          130.14   \n",
      "1                   86.08          117.64          138.55          161.91   \n",
      "2                   79.80           97.03          114.68          154.06   \n",
      "3                  101.41          115.39          135.97          168.32   \n",
      "4                   64.85          107.11          133.03          154.16   \n",
      "...                   ...             ...             ...             ...   \n",
      "35558               65.86           55.90           91.63          114.06   \n",
      "35559               64.63           59.13           89.27          112.99   \n",
      "35560               76.00           73.76           99.03          131.50   \n",
      "35561               69.68           82.00           96.50          128.04   \n",
      "35562               63.52           55.60           82.24          110.13   \n",
      "\n",
      "       IsDeceased  IsTotal  \n",
      "0               0        0  \n",
      "1               0        1  \n",
      "2               0        0  \n",
      "3               0        0  \n",
      "4               0        0  \n",
      "...           ...      ...  \n",
      "35558           0        0  \n",
      "35559           0        0  \n",
      "35560           0        0  \n",
      "35561           0        0  \n",
      "35562           0        0  \n",
      "\n",
      "[35563 rows x 58 columns]\n"
     ]
    }
   ],
   "source": [
    "print(df_train)"
   ]
  },
  {
   "cell_type": "code",
   "execution_count": 152,
   "id": "1c7aa49a",
   "metadata": {
    "scrolled": true
   },
   "outputs": [
    {
     "data": {
      "text/plain": [
       "Event_Code                 0\n",
       "Type_Code                  0\n",
       "Deceased                   0\n",
       "isDeceased                 0\n",
       "Injured                    0\n",
       "Sick                       0\n",
       "Homeless                   0\n",
       "Displaced                  0\n",
       "MissingPeople              0\n",
       "Total                      0\n",
       "Date                       0\n",
       "Year                       0\n",
       "YearMonth                  0\n",
       "Month_Int                  0\n",
       "Month_sin                  0\n",
       "Month_cos                  0\n",
       "isSpring                   0\n",
       "isSummer                   0\n",
       "isAutumn                   0\n",
       "isWinter                   0\n",
       "MunicipalityCode           0\n",
       "StateCode                  0\n",
       "MicroregionCode            0\n",
       "MesoregionCode             0\n",
       "Latitude                   0\n",
       "Longitude                  0\n",
       "x_Lat_Lon                  0\n",
       "y_Lat_Lon                  0\n",
       "z_Lat_Lon                  0\n",
       "Population                 0\n",
       "IDH_M_2000                 0\n",
       "IDH_M_2010                 0\n",
       "IDH_M_Income2000           0\n",
       "IDH_M_Income2010           0\n",
       "IDH_M_Longevity2000        0\n",
       "IDH_M_Longevity2010        0\n",
       "IDH_M_Education2000        0\n",
       "IDH_M_Education2010        0\n",
       "Extremelypoor1991          0\n",
       "Extremelypoor2000          0\n",
       "Extremelypoor2010          0\n",
       "Verypoor1991               0\n",
       "Verypoor2000               0\n",
       "Verypoor2010               0\n",
       "Poor1991                   0\n",
       "Poor2000                   0\n",
       "Poor2010                   0\n",
       "IncomeExtremelypoor1991    0\n",
       "IncomeExtremelypoor2000    0\n",
       "IncomeExtremelypoor2010    0\n",
       "IncomeVerypoor1991         0\n",
       "IncomeVerypoor2000         0\n",
       "IncomeVerypoor2010         0\n",
       "IncomePoor1991             0\n",
       "IncomePoor2000             0\n",
       "IncomePoor2010             0\n",
       "IsDeceased                 0\n",
       "IsTotal                    0\n",
       "dtype: int64"
      ]
     },
     "execution_count": 152,
     "metadata": {},
     "output_type": "execute_result"
    }
   ],
   "source": [
    "df_train.isnull().sum()"
   ]
  },
  {
   "cell_type": "code",
   "execution_count": 153,
   "id": "19a331e2",
   "metadata": {},
   "outputs": [],
   "source": [
    "y_train = df_train['Total'].values\n",
    "y_test = df_test['Total'].values\n",
    "\n",
    "\n",
    "X_train = df_train[['Event_Code', 'Longitude', 'MesoregionCode', 'MicroregionCode','MunicipalityCode', 'isSummer'\n",
    "\n",
    "\n",
    "\n",
    "]].values\n",
    "\n",
    "X_test = df_test[['Event_Code', 'Longitude', 'MesoregionCode', 'MicroregionCode','MunicipalityCode', 'isSummer'\n",
    "\n",
    "\n",
    "]].values\n"
   ]
  },
  {
   "cell_type": "code",
   "execution_count": 154,
   "id": "c0166d55",
   "metadata": {},
   "outputs": [],
   "source": [
    "import numpy as np"
   ]
  },
  {
   "cell_type": "code",
   "execution_count": 155,
   "id": "b4366005",
   "metadata": {},
   "outputs": [],
   "source": [
    "from sklearn.neighbors import KNeighborsRegressor"
   ]
  },
  {
   "cell_type": "code",
   "execution_count": 156,
   "id": "6311e3ac",
   "metadata": {},
   "outputs": [],
   "source": [
    "#Scaling\n",
    "from sklearn.preprocessing import MinMaxScaler\n",
    "scaler = MinMaxScaler(feature_range=(0, 1))\n",
    "\n",
    "x_train_scaled = scaler.fit_transform(X_train)\n",
    "x_train = pd.DataFrame(x_train_scaled)\n",
    "\n",
    "x_test_scaled = scaler.fit_transform(X_test)\n",
    "x_test = pd.DataFrame(x_test_scaled)"
   ]
  },
  {
   "cell_type": "code",
   "execution_count": 157,
   "id": "8e508afa",
   "metadata": {},
   "outputs": [],
   "source": [
    "#import required packages\n",
    "from sklearn import neighbors\n",
    "from sklearn.metrics import mean_squared_error \n",
    "from math import sqrt"
   ]
  },
  {
   "cell_type": "code",
   "execution_count": 158,
   "id": "ddcfee3b",
   "metadata": {},
   "outputs": [
    {
     "name": "stdout",
     "output_type": "stream",
     "text": [
      "RMSE value for k=  1 is: 1497.4984130488021\n",
      "RMSE value for k=  2 is: 1103.8690140332956\n",
      "RMSE value for k=  3 is: 979.1874108719836\n",
      "RMSE value for k=  4 is: 941.4011411460394\n",
      "RMSE value for k=  5 is: 916.8373006132215\n",
      "RMSE value for k=  6 is: 898.4580029315682\n",
      "RMSE value for k=  7 is: 884.596192512528\n",
      "RMSE value for k=  8 is: 882.8733768563916\n",
      "RMSE value for k=  9 is: 875.0463699957158\n",
      "RMSE value for k=  10 is: 868.4638058046057\n",
      "RMSE value for k=  11 is: 862.5540898138984\n",
      "RMSE value for k=  12 is: 865.3977952526561\n",
      "RMSE value for k=  13 is: 859.1652859543318\n",
      "RMSE value for k=  14 is: 857.4934392459975\n",
      "RMSE value for k=  15 is: 862.8548924845545\n",
      "RMSE value for k=  16 is: 861.2879043827928\n",
      "RMSE value for k=  17 is: 862.1799507389475\n",
      "RMSE value for k=  18 is: 864.0682890720361\n",
      "RMSE value for k=  19 is: 862.5313900990185\n",
      "RMSE value for k=  20 is: 860.0097619910223\n"
     ]
    }
   ],
   "source": [
    "rmse_val = [] #to store rmse values for different k\n",
    "for K in range(20):\n",
    "    K = K+1\n",
    "    model = neighbors.KNeighborsRegressor(n_neighbors = K)\n",
    "\n",
    "    model.fit(x_train, y_train)  #fit the model\n",
    "    pred=model.predict(x_test) #make prediction on test set\n",
    "    error = sqrt(mean_squared_error(y_test,pred)) #calculate rmse\n",
    "    rmse_val.append(error) #store rmse values\n",
    "    print('RMSE value for k= ' , K , 'is:', error)"
   ]
  },
  {
   "cell_type": "code",
   "execution_count": 159,
   "id": "2e2db62e",
   "metadata": {},
   "outputs": [
    {
     "name": "stdout",
     "output_type": "stream",
     "text": [
      "Requirement already satisfied: matplotlib in c:\\users\\sarah\\anaconda3\\envs\\my-conda-env\\lib\\site-packages (3.5.1)\n",
      "Requirement already satisfied: pillow>=6.2.0 in c:\\users\\sarah\\anaconda3\\envs\\my-conda-env\\lib\\site-packages (from matplotlib) (9.0.1)\n",
      "Requirement already satisfied: numpy>=1.17 in c:\\users\\sarah\\anaconda3\\envs\\my-conda-env\\lib\\site-packages (from matplotlib) (1.21.6)\n",
      "Requirement already satisfied: kiwisolver>=1.0.1 in c:\\users\\sarah\\anaconda3\\envs\\my-conda-env\\lib\\site-packages (from matplotlib) (1.3.2)\n",
      "Requirement already satisfied: python-dateutil>=2.7 in c:\\users\\sarah\\anaconda3\\envs\\my-conda-env\\lib\\site-packages (from matplotlib) (2.8.2)\n",
      "Requirement already satisfied: packaging>=20.0 in c:\\users\\sarah\\anaconda3\\envs\\my-conda-env\\lib\\site-packages (from matplotlib) (21.3)\n",
      "Requirement already satisfied: pyparsing>=2.2.1 in c:\\users\\sarah\\anaconda3\\envs\\my-conda-env\\lib\\site-packages (from matplotlib) (3.0.4)\n",
      "Requirement already satisfied: fonttools>=4.22.0 in c:\\users\\sarah\\anaconda3\\envs\\my-conda-env\\lib\\site-packages (from matplotlib) (4.29.1)\n",
      "Requirement already satisfied: cycler>=0.10 in c:\\users\\sarah\\anaconda3\\envs\\my-conda-env\\lib\\site-packages (from matplotlib) (0.11.0)\n",
      "Requirement already satisfied: six>=1.5 in c:\\users\\sarah\\anaconda3\\envs\\my-conda-env\\lib\\site-packages (from python-dateutil>=2.7->matplotlib) (1.16.0)\n",
      "Note: you may need to restart the kernel to use updated packages.\n"
     ]
    }
   ],
   "source": [
    "pip install matplotlib"
   ]
  },
  {
   "cell_type": "code",
   "execution_count": 160,
   "id": "6db484a4",
   "metadata": {},
   "outputs": [
    {
     "data": {
      "text/plain": [
       "{'n_neighbors': 20}"
      ]
     },
     "execution_count": 160,
     "metadata": {},
     "output_type": "execute_result"
    }
   ],
   "source": [
    "from sklearn.model_selection import GridSearchCV\n",
    "params = {'n_neighbors':[1,2,3,4,5,6,7,8,9, 10, 11,12,13,14,15,16,17,18,19,20]}\n",
    "\n",
    "knn = neighbors.KNeighborsRegressor()\n",
    "\n",
    "model = GridSearchCV(knn, params, cv=5)\n",
    "model.fit(X_train,y_train)\n",
    "model.best_params_"
   ]
  },
  {
   "cell_type": "code",
   "execution_count": 161,
   "id": "0608a8b0",
   "metadata": {
    "scrolled": true
   },
   "outputs": [
    {
     "data": {
      "text/plain": [
       "<AxesSubplot:>"
      ]
     },
     "execution_count": 161,
     "metadata": {},
     "output_type": "execute_result"
    },
    {
     "data": {
      "image/png": "[encoded data removed]",
      "text/plain": [
       "<Figure size 432x288 with 1 Axes>"
      ]
     },
     "metadata": {
      "needs_background": "light"
     },
     "output_type": "display_data"
    }
   ],
   "source": [
    "#plotting the rmse values against k values\n",
    "curve = pd.DataFrame(rmse_val) #elbow curve\n",
    "curve.plot()"
   ]
  },
  {
   "cell_type": "code",
   "execution_count": 162,
   "id": "f307b4b8",
   "metadata": {},
   "outputs": [
    {
     "data": {
      "text/plain": [
       "{'n_neighbors': 20}"
      ]
     },
     "execution_count": 162,
     "metadata": {},
     "output_type": "execute_result"
    }
   ],
   "source": [
    "from sklearn.model_selection import GridSearchCV\n",
    "params = {'n_neighbors':[1,2,3,4,5,6,7,8,9, 10, 11,12,13,14,15,16,17,18,19,20]}\n",
    "\n",
    "knn = neighbors.KNeighborsRegressor()\n",
    "\n",
    "model = GridSearchCV(knn, params, cv=5)\n",
    "model.fit(X_train,y_train)\n",
    "model.best_params_"
   ]
  },
  {
   "cell_type": "code",
   "execution_count": 163,
   "id": "8a0dccdc",
   "metadata": {},
   "outputs": [],
   "source": [
    "reg = KNeighborsRegressor(n_neighbors = 20)"
   ]
  },
  {
   "cell_type": "code",
   "execution_count": 164,
   "id": "2a01f7ab",
   "metadata": {},
   "outputs": [
    {
     "data": {
      "text/plain": [
       "KNeighborsRegressor(n_neighbors=20)"
      ]
     },
     "execution_count": 164,
     "metadata": {},
     "output_type": "execute_result"
    }
   ],
   "source": [
    "#Fitting the model\n",
    "reg.fit(X_train, y_train)"
   ]
  },
  {
   "cell_type": "code",
   "execution_count": 165,
   "id": "5db286ec",
   "metadata": {},
   "outputs": [],
   "source": [
    "from sklearn.metrics import mean_squared_error as mse"
   ]
  },
  {
   "cell_type": "code",
   "execution_count": 166,
   "id": "3ac697d4",
   "metadata": {},
   "outputs": [
    {
     "name": "stdout",
     "output_type": "stream",
     "text": [
      "Test MSE   721621.6789920842\n"
     ]
    }
   ],
   "source": [
    "#Predicting over the test set\n",
    "test_predict = reg.predict(X_test)\n",
    "k = mse(test_predict, y_test)\n",
    "print('Test MSE  ',k)"
   ]
  },
  {
   "cell_type": "code",
   "execution_count": 167,
   "id": "7f427e05",
   "metadata": {},
   "outputs": [],
   "source": [
    "knn.fit(X_train,y_train)\n",
    "test_score = knn.score(X_test,y_test)\n",
    "train_score = knn.score(X_train,y_train)"
   ]
  },
  {
   "cell_type": "code",
   "execution_count": 168,
   "id": "67388d07",
   "metadata": {},
   "outputs": [
    {
     "name": "stdout",
     "output_type": "stream",
     "text": [
      "-0.20224661046391867\n"
     ]
    }
   ],
   "source": [
    "print(test_score)"
   ]
  },
  {
   "cell_type": "code",
   "execution_count": 169,
   "id": "b9f792e2",
   "metadata": {},
   "outputs": [
    {
     "name": "stdout",
     "output_type": "stream",
     "text": [
      "0.25007968626462873\n",
      "Accuracy=38.03118676348054%\n"
     ]
    }
   ],
   "source": [
    "print(train_score)\n",
    "\n",
    "pred=reg.predict(X_test)\n",
    "print(\"Accuracy={}%\".format((np.sum(y_test==pred)/y_test.shape[0])*100))"
   ]
  },
  {
   "cell_type": "code",
   "execution_count": 170,
   "id": "221a246b",
   "metadata": {},
   "outputs": [],
   "source": [
    "# Create an array\n",
    "knn_r_acc = []"
   ]
  },
  {
   "cell_type": "code",
   "execution_count": 171,
   "id": "c754791c",
   "metadata": {},
   "outputs": [],
   "source": [
    "knn_r_acc.append((1, test_score ,train_score,\"Accuracy={}%\".format((np.sum(y_test==pred)/y_test.shape[0])*100)))"
   ]
  },
  {
   "cell_type": "code",
   "execution_count": 172,
   "id": "2bd47b8e",
   "metadata": {},
   "outputs": [
    {
     "name": "stdout",
     "output_type": "stream",
     "text": [
      "[(1, -0.20224661046391867, 0.25007968626462873, 'Accuracy=38.03118676348054%')]\n"
     ]
    }
   ],
   "source": [
    "print(knn_r_acc)"
   ]
  },
  {
   "cell_type": "code",
   "execution_count": 173,
   "id": "868ed95b",
   "metadata": {},
   "outputs": [
    {
     "name": "stdout",
     "output_type": "stream",
     "text": [
      "[ 68.85 141.95 141.95 ...   0.    43.     5.5 ]\n"
     ]
    }
   ],
   "source": [
    "print(pred)"
   ]
  },
  {
   "cell_type": "code",
   "execution_count": 174,
   "id": "76fee118",
   "metadata": {},
   "outputs": [
    {
     "name": "stdout",
     "output_type": "stream",
     "text": [
      "1.7358302262150356\n",
      "RMSE: 849.48\n"
     ]
    }
   ],
   "source": [
    "#WAPE and RMSE\n",
    "\n",
    "wape = np.sum(abs((np.array(y_test) - pred))) / np.array(y_test).sum()\n",
    "\n",
    "print(wape)\n",
    "\n",
    "mse = mean_squared_error(y_test, pred)\n",
    "print(\"RMSE: %.2f\" % (mse**(1/2.0)))\n",
    "\n",
    "\n",
    "\n"
   ]
  },
  {
   "cell_type": "code",
   "execution_count": 175,
   "id": "ec9c3bd0",
   "metadata": {},
   "outputs": [
    {
     "name": "stdout",
     "output_type": "stream",
     "text": [
      "Mean absolute error : 196.50606475419687\n",
      "MAE Naive : 190.06428571428572\n",
      "Mean Absolute Scaled Error : 1.0338926327779159\n",
      "7.503883345110528\n"
     ]
    }
   ],
   "source": [
    "# Python program for calculating Mean Absolute Error\n",
    "\n",
    "# consider a list of integers for actual\n",
    "actual = y_test\n",
    "\n",
    "# consider a list of integers for actual\n",
    "calculated =  pred\n",
    "\n",
    "n = len(y_test)\n",
    "sum = 0\n",
    "\n",
    "# for loop for iteration\n",
    "for i in range(n):\n",
    "    sum += abs(actual[i] - calculated[i])\n",
    "\n",
    "error = sum/n\n",
    "\n",
    "# display\n",
    "print(\"Mean absolute error : \" + str(error))\n",
    "\n",
    "#Now create Mean absolute error naive\n",
    "\n",
    "sp = 1\n",
    "\n",
    "y_pred_naive = y_test[:-sp]\n",
    "\n",
    "# mean absolute error of naive seasonal prediction\n",
    "mae_naive = np.mean(np.abs(y_test[sp:] - y_pred_naive))\n",
    "\n",
    "print(\"MAE Naive : \" + str(mae_naive))\n",
    "\n",
    "MASE = str(error/mae_naive)\n",
    "\n",
    "print(\"Mean Absolute Scaled Error : \" + str(error/mae_naive))\n",
    "\n",
    "NRMSE = (mse**(1/2.0))/np.mean(y_test)\n",
    "print(NRMSE)"
   ]
  },
  {
   "cell_type": "code",
   "execution_count": null,
   "id": "4ef913a0",
   "metadata": {},
   "outputs": [],
   "source": []
  },
  {
   "cell_type": "code",
   "execution_count": 31,
   "id": "179b4e67",
   "metadata": {},
   "outputs": [],
   "source": [
    "#Now we will do the same code, but with a smaller portion of the dataset, to adjust for distances\n",
    "#split the datasets into the distances and train/test\n",
    "\n",
    "zeroto3k_train = pd.read_excel(\"C:\\\\Users\\\\Sarah\\\\Desktop\\\\Thesis\\\\TestTrainSets\\\\ORIGINAL_Oversampled_TrainSet_0-3km.xlsx\")\n",
    "zeroto35k_train = pd.read_excel(\"C:\\\\Users\\\\Sarah\\\\Desktop\\\\Thesis\\\\TestTrainSets\\\\ORIGINAL_Oversampled_TrainSet_0-35km.xlsx\")\n",
    "zeroto85k_train = pd.read_excel(\"C:\\\\Users\\\\Sarah\\\\Desktop\\\\Thesis\\\\TestTrainSets\\\\ORIGINAL_Oversampled_TrainSet_0-85km.xlsx\")\n",
    "\n",
    "zeroto3k_test = pd.read_excel(\"C:\\\\Users\\\\Sarah\\\\Desktop\\\\Thesis\\\\TestTrainSets\\\\ORIGINAL_TestSet_0-3km.xlsx\")\n",
    "zeroto35k_test = pd.read_excel(\"C:\\\\Users\\\\Sarah\\\\Desktop\\\\Thesis\\\\TestTrainSets\\\\ORIGINAL_TestSet_0-35km.xlsx\")\n",
    "zeroto85k_test = pd.read_excel(\"C:\\\\Users\\\\Sarah\\\\Desktop\\\\Thesis\\\\TestTrainSets\\\\ORIGINAL_TestSet_0-85km.xlsx\")\n"
   ]
  },
  {
   "cell_type": "code",
   "execution_count": 32,
   "id": "ea6e3286",
   "metadata": {},
   "outputs": [],
   "source": [
    "#Set up y train and test for each\n",
    "y_train_zeroto3k = zeroto3k_train['Total'].values\n",
    "y_test_zeroto3k = zeroto3k_test['Total'].values\n",
    "\n",
    "y_train_zeroto35k = zeroto35k_train['Total'].values\n",
    "y_test_zeroto35k = zeroto35k_test['Total'].values\n",
    "\n",
    "y_train_zeroto85k = zeroto85k_train['Total'].values\n",
    "y_test_zeroto85k = zeroto85k_test['Total'].values\n",
    "\n",
    "#set up x train and x test for each\n",
    "\n",
    "zeroto3k_X_train = zeroto3k_train[['Event_Code', 'MesoregionCode', 'MunicipalityCode', 'isSummer'\n",
    "\n",
    "\n",
    "\n",
    "\n",
    "]].values\n",
    "\n",
    "\n",
    "zeroto3k_X_test = zeroto3k_test[['Event_Code', 'MesoregionCode', 'MunicipalityCode', 'isSummer'\n",
    "\n",
    "\n",
    "\n",
    "]].values\n",
    "\n",
    "zeroto35k_X_train = zeroto35k_train[['Event_Code', 'MesoregionCode', 'MunicipalityCode', 'isSummer'\n",
    "\n",
    "]].values\n",
    "\n",
    "zeroto35k_X_test = zeroto35k_test[['Event_Code', 'MesoregionCode', 'MunicipalityCode', 'isSummer'\n",
    "\n",
    "]].values\n",
    "\n",
    "zeroto85k_X_train = zeroto85k_train[['Event_Code', 'MesoregionCode', 'MunicipalityCode', 'isSummer'\n",
    "\n",
    "]].values\n",
    "\n",
    "zeroto85k_X_test = zeroto85k_test[['Event_Code', 'MesoregionCode', 'MunicipalityCode', 'isSummer'\n",
    "\n",
    "\n",
    "]].values\n",
    "\n"
   ]
  },
  {
   "cell_type": "code",
   "execution_count": 33,
   "id": "6f929e17",
   "metadata": {},
   "outputs": [],
   "source": [
    "from sklearn.neighbors import KNeighborsRegressor\n",
    "\n",
    "#Scaling\n",
    "from sklearn.preprocessing import MinMaxScaler\n",
    "scaler = MinMaxScaler(feature_range=(0, 1))\n",
    "\n",
    "x_train_zeroto3k_scaled = scaler.fit_transform(zeroto3k_X_train)\n",
    "x_train_zeroto3k = pd.DataFrame(x_train_zeroto3k_scaled)\n",
    "\n",
    "x_test_zeroto3k_scaled = scaler.fit_transform(zeroto3k_X_test)\n",
    "x_test_zeroto3k = pd.DataFrame(x_test_zeroto3k_scaled)\n"
   ]
  },
  {
   "cell_type": "code",
   "execution_count": 34,
   "id": "5b04088c",
   "metadata": {},
   "outputs": [
    {
     "name": "stdout",
     "output_type": "stream",
     "text": [
      "RMSE value for k=  1 is: 1406.7984335107076\n",
      "RMSE value for k=  2 is: 1293.865287752261\n",
      "RMSE value for k=  3 is: 1166.9013919230702\n",
      "RMSE value for k=  4 is: 1206.6694608723353\n",
      "RMSE value for k=  5 is: 1154.4305232360525\n",
      "RMSE value for k=  6 is: 1064.4239445941505\n",
      "RMSE value for k=  7 is: 1068.5633153172973\n",
      "RMSE value for k=  8 is: 1096.752293717757\n",
      "RMSE value for k=  9 is: 1084.8944078596978\n",
      "RMSE value for k=  10 is: 1085.7210907021615\n",
      "RMSE value for k=  11 is: 1080.566168238387\n",
      "RMSE value for k=  12 is: 1074.2003169014133\n",
      "RMSE value for k=  13 is: 1070.890447177322\n",
      "RMSE value for k=  14 is: 1067.4082824821003\n",
      "RMSE value for k=  15 is: 1076.00408052818\n",
      "RMSE value for k=  16 is: 1085.7949662915064\n",
      "RMSE value for k=  17 is: 1093.2243612452994\n",
      "RMSE value for k=  18 is: 1095.9023595604788\n",
      "RMSE value for k=  19 is: 1099.625172759323\n",
      "RMSE value for k=  20 is: 1103.8795255590487\n"
     ]
    }
   ],
   "source": [
    "#test values for 0-3k\n",
    "\n",
    "rmse_val = [] #to store rmse values for different k\n",
    "for K in range(20):\n",
    "    K = K+1\n",
    "    model = neighbors.KNeighborsRegressor(n_neighbors = K)\n",
    "\n",
    "    model.fit(x_train_zeroto3k, y_train_zeroto3k)  #fit the model\n",
    "    pred=model.predict(x_test_zeroto3k) #make prediction on test set\n",
    "    error = sqrt(mean_squared_error(y_test_zeroto3k,pred)) #calculate rmse\n",
    "    rmse_val.append(error) #store rmse values\n",
    "    print('RMSE value for k= ' , K , 'is:', error)\n",
    "    \n",
    "   "
   ]
  },
  {
   "cell_type": "code",
   "execution_count": 35,
   "id": "8f85b3d4",
   "metadata": {},
   "outputs": [
    {
     "data": {
      "text/plain": [
       "<AxesSubplot:>"
      ]
     },
     "execution_count": 35,
     "metadata": {},
     "output_type": "execute_result"
    },
    {
     "data": {
      "image/png": "[encoded data removed]",
      "text/plain": [
       "<Figure size 432x288 with 1 Axes>"
      ]
     },
     "metadata": {
      "needs_background": "light"
     },
     "output_type": "display_data"
    }
   ],
   "source": [
    "#Graph the k values\n",
    "#plotting the rmse values against k values\n",
    "curve = pd.DataFrame(rmse_val) #elbow curve\n",
    "curve.plot()"
   ]
  },
  {
   "cell_type": "code",
   "execution_count": 36,
   "id": "6265aeba",
   "metadata": {},
   "outputs": [
    {
     "data": {
      "text/plain": [
       "{'n_neighbors': 8}"
      ]
     },
     "execution_count": 36,
     "metadata": {},
     "output_type": "execute_result"
    }
   ],
   "source": [
    "\n",
    "from sklearn.model_selection import GridSearchCV\n",
    "params = {'n_neighbors':[1,2,3,4,5,6,7,8,9, 10, 11,12,13,14,15,16,17,18,19,20]}\n",
    "\n",
    "knn = neighbors.KNeighborsRegressor()\n",
    "\n",
    "model = GridSearchCV(knn, params, cv=5)\n",
    "model.fit(x_train_zeroto3k, y_train_zeroto3k)\n",
    "model.best_params_"
   ]
  },
  {
   "cell_type": "code",
   "execution_count": 37,
   "id": "a718a585",
   "metadata": {},
   "outputs": [],
   "source": [
    "\n",
    "#import required packages\n",
    "from sklearn import neighbors\n",
    "from sklearn.metrics import mean_squared_error \n",
    "from math import sqrt\n",
    "\n"
   ]
  },
  {
   "cell_type": "code",
   "execution_count": 38,
   "id": "3b2dfea1",
   "metadata": {},
   "outputs": [],
   "source": [
    "x_test = x_test_zeroto3k \n",
    "x_train = x_train_zeroto3k\n",
    "y_test = y_test_zeroto3k\n",
    "y_train = y_train_zeroto3k"
   ]
  },
  {
   "cell_type": "code",
   "execution_count": 39,
   "id": "af5eb5f8",
   "metadata": {},
   "outputs": [],
   "source": [
    "reg = KNeighborsRegressor(n_neighbors = 8)\n",
    "\n",
    "#Fitting the model\n",
    "reg.fit(x_train, y_train)\n",
    "from sklearn.metrics import mean_squared_error as mse\n"
   ]
  },
  {
   "cell_type": "code",
   "execution_count": 40,
   "id": "1e910c3a",
   "metadata": {},
   "outputs": [
    {
     "name": "stdout",
     "output_type": "stream",
     "text": [
      "Test MSE   1202865.593775161\n",
      "-0.10668952769092166\n",
      "0.43028542852341123\n",
      "Accuracy=30.112721417069245%\n"
     ]
    }
   ],
   "source": [
    "#Predicting over the test set\n",
    "test_predict = reg.predict(x_test)\n",
    "k = mse(test_predict, y_test)\n",
    "print('Test MSE  ',k)\n",
    "knn = neighbors.KNeighborsRegressor()\n",
    "knn.fit(x_train,y_train)\n",
    "test_score = knn.score(x_test,y_test)\n",
    "train_score = knn.score(x_train,y_train)\n",
    "\n",
    "print(test_score)\n",
    "\n",
    "print(train_score)\n",
    "\n",
    "pred=reg.predict(x_test)\n",
    "print(\"Accuracy={}%\".format((np.sum(y_test==pred)/y_test.shape[0])*100))\n",
    "\n"
   ]
  },
  {
   "cell_type": "code",
   "execution_count": 41,
   "id": "8692d472",
   "metadata": {},
   "outputs": [
    {
     "name": "stdout",
     "output_type": "stream",
     "text": [
      "2.382712776855779\n",
      "RMSE: 1096.75\n"
     ]
    }
   ],
   "source": [
    "#WAPE and RMSE\n",
    "\n",
    "wape = np.sum(abs((np.array(y_test) - pred))) / np.array(y_test).sum()\n",
    "\n",
    "print(wape)\n",
    "\n",
    "mse = mean_squared_error(y_test, pred)\n",
    "print(\"RMSE: %.2f\" % (mse**(1/2.0)))\n",
    "\n"
   ]
  },
  {
   "cell_type": "code",
   "execution_count": 42,
   "id": "87460ecc",
   "metadata": {},
   "outputs": [
    {
     "name": "stdout",
     "output_type": "stream",
     "text": [
      "Mean absolute error : 374.5348228663446\n",
      "MAE Naive : 247.8709677419355\n",
      "Mean Absolute Scaled Error : 1.5110072239532382\n",
      "6.977310369401184\n"
     ]
    }
   ],
   "source": [
    "# Python program for calculating Mean Absolute Error\n",
    "\n",
    "# consider a list of integers for actual\n",
    "actual = y_test\n",
    "\n",
    "# consider a list of integers for actual\n",
    "calculated =  pred\n",
    "\n",
    "n = len(y_test)\n",
    "sum = 0\n",
    "\n",
    "# for loop for iteration\n",
    "for i in range(n):\n",
    "    sum += abs(actual[i] - calculated[i])\n",
    "\n",
    "error = sum/n\n",
    "\n",
    "# display\n",
    "print(\"Mean absolute error : \" + str(error))\n",
    "\n",
    "#Now create Mean absolute error naive\n",
    "\n",
    "sp = 1\n",
    "\n",
    "y_pred_naive = y_test[:-sp]\n",
    "\n",
    "# mean absolute error of naive seasonal prediction\n",
    "mae_naive = np.mean(np.abs(y_test[sp:] - y_pred_naive))\n",
    "\n",
    "print(\"MAE Naive : \" + str(mae_naive))\n",
    "\n",
    "MASE = str(error/mae_naive)\n",
    "\n",
    "print(\"Mean Absolute Scaled Error : \" + str(error/mae_naive))\n",
    "\n",
    "NRMSE = (mse**(1/2.0))/np.mean(y_test)\n",
    "print(NRMSE)"
   ]
  },
  {
   "cell_type": "code",
   "execution_count": 43,
   "id": "712c4dd7",
   "metadata": {},
   "outputs": [],
   "source": [
    "#Repeat for 0-35\n",
    "from sklearn.neighbors import KNeighborsRegressor\n",
    "\n",
    "#Scaling\n",
    "from sklearn.preprocessing import MinMaxScaler\n",
    "scaler = MinMaxScaler(feature_range=(0, 1))\n",
    "\n",
    "x_train_zeroto35k_scaled = scaler.fit_transform(zeroto35k_X_train)\n",
    "x_train_zeroto35k = pd.DataFrame(x_train_zeroto35k_scaled)\n",
    "\n",
    "x_test_zeroto35k_scaled = scaler.fit_transform(zeroto35k_X_test)\n",
    "x_test_zeroto35k = pd.DataFrame(x_test_zeroto35k_scaled)\n",
    "\n"
   ]
  },
  {
   "cell_type": "code",
   "execution_count": 44,
   "id": "bd8c1994",
   "metadata": {},
   "outputs": [
    {
     "name": "stdout",
     "output_type": "stream",
     "text": [
      "RMSE value for k=  1 is: 2012.350933465196\n",
      "RMSE value for k=  2 is: 1558.1635796202536\n",
      "RMSE value for k=  3 is: 1412.5479886915332\n",
      "RMSE value for k=  4 is: 1345.7051824367516\n",
      "RMSE value for k=  5 is: 1462.9867377508003\n",
      "RMSE value for k=  6 is: 1458.7216093515574\n",
      "RMSE value for k=  7 is: 1375.0291848698832\n",
      "RMSE value for k=  8 is: 1410.160544362556\n",
      "RMSE value for k=  9 is: 1348.1720030279344\n",
      "RMSE value for k=  10 is: 1322.0018851853697\n",
      "RMSE value for k=  11 is: 1325.7012896901408\n",
      "RMSE value for k=  12 is: 1283.4236490807257\n",
      "RMSE value for k=  13 is: 1254.7050293935429\n",
      "RMSE value for k=  14 is: 1244.3762433203624\n",
      "RMSE value for k=  15 is: 1228.2167914919166\n",
      "RMSE value for k=  16 is: 1214.6619072519056\n",
      "RMSE value for k=  17 is: 1200.9845478814586\n",
      "RMSE value for k=  18 is: 1191.1146075284414\n",
      "RMSE value for k=  19 is: 1182.132658142565\n",
      "RMSE value for k=  20 is: 1173.8162670000681\n"
     ]
    }
   ],
   "source": [
    "#test values for 0-35k\n",
    "\n",
    "rmse_val = [] #to store rmse values for different k\n",
    "for K in range(20):\n",
    "    K = K+1\n",
    "    model = neighbors.KNeighborsRegressor(n_neighbors = K)\n",
    "\n",
    "    model.fit(x_train_zeroto35k, y_train_zeroto35k)  #fit the model\n",
    "    pred=model.predict(x_test_zeroto35k) #make prediction on test set\n",
    "    error = sqrt(mean_squared_error(y_test_zeroto35k,pred)) #calculate rmse\n",
    "    rmse_val.append(error) #store rmse values\n",
    "    print('RMSE value for k= ' , K , 'is:', error)\n",
    "    \n",
    "   "
   ]
  },
  {
   "cell_type": "code",
   "execution_count": 45,
   "id": "dabb9b65",
   "metadata": {},
   "outputs": [
    {
     "data": {
      "text/plain": [
       "{'n_neighbors': 19}"
      ]
     },
     "execution_count": 45,
     "metadata": {},
     "output_type": "execute_result"
    },
    {
     "data": {
      "image/png": "[encoded data removed]",
      "text/plain": [
       "<Figure size 432x288 with 1 Axes>"
      ]
     },
     "metadata": {
      "needs_background": "light"
     },
     "output_type": "display_data"
    }
   ],
   "source": [
    "#Graph the k values\n",
    "#plotting the rmse values against k values\n",
    "curve = pd.DataFrame(rmse_val) #elbow curve\n",
    "curve.plot()\n",
    "\n",
    "\n",
    "from sklearn.model_selection import GridSearchCV\n",
    "params = {'n_neighbors':[1,2,3,4,5,6,7,8,9, 10, 11,12,13,14,15,16,17,18,19,20]}\n",
    "\n",
    "knn = neighbors.KNeighborsRegressor()\n",
    "\n",
    "model = GridSearchCV(knn, params, cv=5)\n",
    "model.fit(x_train_zeroto35k, y_train_zeroto35k)\n",
    "model.best_params_"
   ]
  },
  {
   "cell_type": "code",
   "execution_count": 46,
   "id": "8e3a506f",
   "metadata": {},
   "outputs": [
    {
     "name": "stdout",
     "output_type": "stream",
     "text": [
      "Test MSE   1397437.6214472067\n",
      "-1.5960886481420316\n",
      "0.5559042556294144\n",
      "Accuracy=28.580872631115028%\n"
     ]
    }
   ],
   "source": [
    "\n",
    "#import required packages\n",
    "from sklearn import neighbors\n",
    "from sklearn.metrics import mean_squared_error \n",
    "from math import sqrt\n",
    "\n",
    "x_test = x_test_zeroto35k \n",
    "x_train = x_train_zeroto35k\n",
    "y_test = y_test_zeroto35k\n",
    "y_train = y_train_zeroto35k\n",
    "\n",
    "reg = KNeighborsRegressor(n_neighbors = 19)\n",
    "\n",
    "#Fitting the model\n",
    "reg.fit(x_train, y_train)\n",
    "from sklearn.metrics import mean_squared_error as mse\n",
    "\n",
    "#Predicting over the test set\n",
    "test_predict = reg.predict(x_test)\n",
    "k = mse(test_predict, y_test)\n",
    "print('Test MSE  ',k)\n",
    "knn = neighbors.KNeighborsRegressor()\n",
    "knn.fit(x_train,y_train)\n",
    "test_score = knn.score(x_test,y_test)\n",
    "train_score = knn.score(x_train,y_train)\n",
    "\n",
    "print(test_score)\n",
    "\n",
    "print(train_score)\n",
    "\n",
    "pred=reg.predict(x_test)\n",
    "print(\"Accuracy={}%\".format((np.sum(y_test==pred)/y_test.shape[0])*100))\n",
    "\n"
   ]
  },
  {
   "cell_type": "code",
   "execution_count": 47,
   "id": "d99aa8e8",
   "metadata": {},
   "outputs": [
    {
     "name": "stdout",
     "output_type": "stream",
     "text": [
      "3.047236745456214\n",
      "RMSE: 1182.13\n"
     ]
    }
   ],
   "source": [
    "#WAPE and RMSE\n",
    "\n",
    "wape = np.sum(abs((np.array(y_test) - pred))) / np.array(y_test).sum()\n",
    "\n",
    "print(wape)\n",
    "\n",
    "mse = mean_squared_error(y_test, pred)\n",
    "print(\"RMSE: %.2f\" % (mse**(1/2.0)))\n"
   ]
  },
  {
   "cell_type": "code",
   "execution_count": 48,
   "id": "9ed2b4ba",
   "metadata": {},
   "outputs": [
    {
     "name": "stdout",
     "output_type": "stream",
     "text": [
      "Mean absolute error : 379.3836607826289\n",
      "MAE Naive : 213.79016971567114\n",
      "Mean Absolute Scaled Error : 1.774560828906155\n",
      "9.494974207547033\n"
     ]
    }
   ],
   "source": [
    "# Python program for calculating Mean Absolute Error\n",
    "\n",
    "# consider a list of integers for actual\n",
    "actual = y_test\n",
    "\n",
    "# consider a list of integers for actual\n",
    "calculated =  pred\n",
    "\n",
    "n = len(y_test)\n",
    "sum = 0\n",
    "\n",
    "# for loop for iteration\n",
    "for i in range(n):\n",
    "    sum += abs(actual[i] - calculated[i])\n",
    "\n",
    "error = sum/n\n",
    "\n",
    "# display\n",
    "print(\"Mean absolute error : \" + str(error))\n",
    "\n",
    "#Now create Mean absolute error naive\n",
    "\n",
    "sp = 1\n",
    "\n",
    "y_pred_naive = y_test[:-sp]\n",
    "\n",
    "# mean absolute error of naive seasonal prediction\n",
    "mae_naive = np.mean(np.abs(y_test[sp:] - y_pred_naive))\n",
    "\n",
    "print(\"MAE Naive : \" + str(mae_naive))\n",
    "\n",
    "MASE = str(error/mae_naive)\n",
    "\n",
    "print(\"Mean Absolute Scaled Error : \" + str(error/mae_naive))\n",
    "\n",
    "NRMSE = (mse**(1/2.0))/np.mean(y_test)\n",
    "print(NRMSE)"
   ]
  },
  {
   "cell_type": "code",
   "execution_count": 49,
   "id": "ab5ad170",
   "metadata": {},
   "outputs": [],
   "source": [
    "#Repeat for 0-85\n",
    "from sklearn.neighbors import KNeighborsRegressor\n",
    "\n",
    "#Scaling\n",
    "from sklearn.preprocessing import MinMaxScaler\n",
    "scaler = MinMaxScaler(feature_range=(0, 1))\n",
    "\n",
    "x_train_zeroto85k_scaled = scaler.fit_transform(zeroto85k_X_train)\n",
    "x_train_zeroto85k = pd.DataFrame(x_train_zeroto85k_scaled)\n",
    "\n",
    "x_test_zeroto85k_scaled = scaler.fit_transform(zeroto85k_X_test)\n",
    "x_test_zeroto85k = pd.DataFrame(x_test_zeroto85k_scaled)\n",
    "\n",
    "\n"
   ]
  },
  {
   "cell_type": "code",
   "execution_count": 50,
   "id": "fdb25ee9",
   "metadata": {},
   "outputs": [
    {
     "name": "stdout",
     "output_type": "stream",
     "text": [
      "RMSE value for k=  1 is: 1823.4607187488714\n",
      "RMSE value for k=  2 is: 1482.5969473938662\n",
      "RMSE value for k=  3 is: 1324.7581543252902\n",
      "RMSE value for k=  4 is: 1272.082789787321\n",
      "RMSE value for k=  5 is: 1308.099167764874\n",
      "RMSE value for k=  6 is: 1252.2482159062663\n",
      "RMSE value for k=  7 is: 1203.7246044402643\n",
      "RMSE value for k=  8 is: 1239.696455503958\n",
      "RMSE value for k=  9 is: 1205.4323484492052\n",
      "RMSE value for k=  10 is: 1196.7312191560718\n",
      "RMSE value for k=  11 is: 1198.5107256453787\n",
      "RMSE value for k=  12 is: 1187.644126661061\n",
      "RMSE value for k=  13 is: 1163.734620106319\n",
      "RMSE value for k=  14 is: 1150.000085634011\n",
      "RMSE value for k=  15 is: 1141.7368297699466\n",
      "RMSE value for k=  16 is: 1146.1429864098545\n",
      "RMSE value for k=  17 is: 1138.778256412183\n",
      "RMSE value for k=  18 is: 1132.0255878396454\n",
      "RMSE value for k=  19 is: 1126.340072548746\n",
      "RMSE value for k=  20 is: 1117.5283479185666\n"
     ]
    }
   ],
   "source": [
    "#test values for 0-85k\n",
    "\n",
    "rmse_val = [] #to store rmse values for different k\n",
    "for K in range(20):\n",
    "    K = K+1\n",
    "    model = neighbors.KNeighborsRegressor(n_neighbors = K)\n",
    "\n",
    "    model.fit(x_train_zeroto85k, y_train_zeroto85k)  #fit the model\n",
    "    pred=model.predict(x_test_zeroto85k) #make prediction on test set\n",
    "    error = sqrt(mean_squared_error(y_test_zeroto85k,pred)) #calculate rmse\n",
    "    rmse_val.append(error) #store rmse values\n",
    "    print('RMSE value for k= ' , K , 'is:', error)"
   ]
  },
  {
   "cell_type": "code",
   "execution_count": 51,
   "id": "e2589a96",
   "metadata": {
    "scrolled": true
   },
   "outputs": [
    {
     "data": {
      "text/plain": [
       "{'n_neighbors': 20}"
      ]
     },
     "execution_count": 51,
     "metadata": {},
     "output_type": "execute_result"
    },
    {
     "data": {
      "image/png": "[encoded data removed]",
      "text/plain": [
       "<Figure size 432x288 with 1 Axes>"
      ]
     },
     "metadata": {
      "needs_background": "light"
     },
     "output_type": "display_data"
    }
   ],
   "source": [
    "#Graph the k values\n",
    "#plotting the rmse values against k values\n",
    "curve = pd.DataFrame(rmse_val) #elbow curve\n",
    "curve.plot()\n",
    "\n",
    "\n",
    "from sklearn.model_selection import GridSearchCV\n",
    "params = {'n_neighbors':[1,2,3,4,5,6,7,8,9, 10, 11,12,13,14,15,16,17,18,19,20]}\n",
    "\n",
    "knn = neighbors.KNeighborsRegressor()\n",
    "\n",
    "model = GridSearchCV(knn, params, cv=5)\n",
    "model.fit(x_train_zeroto85k, y_train_zeroto85k)\n",
    "model.best_params_"
   ]
  },
  {
   "cell_type": "code",
   "execution_count": 52,
   "id": "d9a87b33",
   "metadata": {},
   "outputs": [],
   "source": [
    "#import required packages\n",
    "from sklearn import neighbors\n",
    "from sklearn.metrics import mean_squared_error \n",
    "from math import sqrt\n",
    "\n"
   ]
  },
  {
   "cell_type": "code",
   "execution_count": 53,
   "id": "b6ee8182",
   "metadata": {},
   "outputs": [
    {
     "name": "stdout",
     "output_type": "stream",
     "text": [
      "Test MSE   1248869.6084016007\n",
      "-1.4428999601456618\n",
      "0.5341780312927777\n",
      "Accuracy=33.76883239171375%\n"
     ]
    }
   ],
   "source": [
    "\n",
    "#import required packages\n",
    "from sklearn import neighbors\n",
    "from sklearn.metrics import mean_squared_error \n",
    "from math import sqrt\n",
    "\n",
    "x_test = x_test_zeroto85k \n",
    "x_train = x_train_zeroto85k\n",
    "y_test = y_test_zeroto85k\n",
    "y_train = y_train_zeroto85k\n",
    "\n",
    "reg = KNeighborsRegressor(n_neighbors = 20)\n",
    "\n",
    "#Fitting the model\n",
    "reg.fit(x_train, y_train)\n",
    "from sklearn.metrics import mean_squared_error as mse\n",
    "\n",
    "#Predicting over the test set\n",
    "test_predict = reg.predict(x_test)\n",
    "k = mse(test_predict, y_test)\n",
    "print('Test MSE  ',k)\n",
    "knn = neighbors.KNeighborsRegressor()\n",
    "knn.fit(x_train,y_train)\n",
    "test_score = knn.score(x_test,y_test)\n",
    "train_score = knn.score(x_train,y_train)\n",
    "\n",
    "print(test_score)\n",
    "\n",
    "print(train_score)\n",
    "\n",
    "pred=reg.predict(x_test)\n",
    "print(\"Accuracy={}%\".format((np.sum(y_test==pred)/y_test.shape[0])*100))\n",
    "\n"
   ]
  },
  {
   "cell_type": "code",
   "execution_count": 54,
   "id": "5cc641d0",
   "metadata": {
    "scrolled": true
   },
   "outputs": [
    {
     "name": "stdout",
     "output_type": "stream",
     "text": [
      "3.0144628450481226\n",
      "RMSE: 1117.53\n"
     ]
    }
   ],
   "source": [
    "#WAPE and RMSE\n",
    "\n",
    "wape = np.sum(abs((np.array(y_test) - pred))) / np.array(y_test).sum()\n",
    "\n",
    "print(wape)\n",
    "\n",
    "mse = mean_squared_error(y_test, pred)\n",
    "print(\"RMSE: %.2f\" % (mse**(1/2.0)))\n"
   ]
  },
  {
   "cell_type": "code",
   "execution_count": 55,
   "id": "c272a402",
   "metadata": {},
   "outputs": [
    {
     "name": "stdout",
     "output_type": "stream",
     "text": [
      "Mean absolute error : 321.35358992466877\n",
      "MAE Naive : 179.95503237198352\n",
      "Mean Absolute Scaled Error : 1.7857438366069225\n",
      "10.482993776040312\n"
     ]
    }
   ],
   "source": [
    "# Python program for calculating Mean Absolute Error\n",
    "\n",
    "# consider a list of integers for actual\n",
    "actual = y_test\n",
    "\n",
    "# consider a list of integers for actual\n",
    "calculated =  pred\n",
    "\n",
    "n = len(y_test)\n",
    "sum = 0\n",
    "\n",
    "# for loop for iteration\n",
    "for i in range(n):\n",
    "    sum += abs(actual[i] - calculated[i])\n",
    "\n",
    "error = sum/n\n",
    "\n",
    "# display\n",
    "print(\"Mean absolute error : \" + str(error))\n",
    "\n",
    "#Now create Mean absolute error naive\n",
    "\n",
    "sp = 1\n",
    "\n",
    "y_pred_naive = y_test[:-sp]\n",
    "\n",
    "# mean absolute error of naive seasonal prediction\n",
    "mae_naive = np.mean(np.abs(y_test[sp:] - y_pred_naive))\n",
    "\n",
    "print(\"MAE Naive : \" + str(mae_naive))\n",
    "\n",
    "MASE = str(error/mae_naive)\n",
    "\n",
    "print(\"Mean Absolute Scaled Error : \" + str(error/mae_naive))\n",
    "\n",
    "NRMSE = (mse**(1/2.0))/np.mean(y_test)\n",
    "print(NRMSE)"
   ]
  }
 ],
 "metadata": {
  "kernelspec": {
   "display_name": "Python 3 (ipykernel)",
   "language": "python",
   "name": "python3"
  },
  "language_info": {
   "codemirror_mode": {
    "name": "ipython",
    "version": 3
   },
   "file_extension": ".py",
   "mimetype": "text/x-python",
   "name": "python",
   "nbconvert_exporter": "python",
   "pygments_lexer": "ipython3",
   "version": "3.9.7"
  }
 },
 "nbformat": 4,
 "nbformat_minor": 5
}
