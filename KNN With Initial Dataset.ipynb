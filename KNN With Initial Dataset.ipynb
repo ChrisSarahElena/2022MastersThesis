{
 "cells": [
  {
   "cell_type": "code",
   "execution_count": 1,
   "id": "a96ac493",
   "metadata": {},
   "outputs": [
    {
     "name": "stdout",
     "output_type": "stream",
     "text": [
      "Requirement already satisfied: pandas in c:\\users\\sarah\\anaconda3\\envs\\my-conda-env\\lib\\site-packages (1.4.1)\n",
      "Requirement already satisfied: python-dateutil>=2.8.1 in c:\\users\\sarah\\anaconda3\\envs\\my-conda-env\\lib\\site-packages (from pandas) (2.8.2)\n",
      "Requirement already satisfied: pytz>=2020.1 in c:\\users\\sarah\\anaconda3\\envs\\my-conda-env\\lib\\site-packages (from pandas) (2021.3)\n",
      "Requirement already satisfied: numpy>=1.18.5 in c:\\users\\sarah\\anaconda3\\envs\\my-conda-env\\lib\\site-packages (from pandas) (1.22.2)\n",
      "Requirement already satisfied: six>=1.5 in c:\\users\\sarah\\anaconda3\\envs\\my-conda-env\\lib\\site-packages (from python-dateutil>=2.8.1->pandas) (1.16.0)\n",
      "Note: you may need to restart the kernel to use updated packages.\n"
     ]
    }
   ],
   "source": [
    "pip install pandas"
   ]
  },
  {
   "cell_type": "code",
   "execution_count": 2,
   "id": "a6817a3d",
   "metadata": {},
   "outputs": [
    {
     "name": "stdout",
     "output_type": "stream",
     "text": [
      "Requirement already satisfied: xlrd in c:\\users\\sarah\\anaconda3\\envs\\my-conda-env\\lib\\site-packages (2.0.1)\n",
      "Note: you may need to restart the kernel to use updated packages.\n"
     ]
    }
   ],
   "source": [
    "pip install xlrd"
   ]
  },
  {
   "cell_type": "code",
   "execution_count": 3,
   "id": "9ac065d6",
   "metadata": {},
   "outputs": [],
   "source": [
    "import pandas as pd"
   ]
  },
  {
   "cell_type": "code",
   "execution_count": 4,
   "id": "25b17859",
   "metadata": {},
   "outputs": [],
   "source": [
    "df = pd.read_excel(\"Downloads\\Disaster_Clean4.xlsx\")"
   ]
  },
  {
   "cell_type": "code",
   "execution_count": 5,
   "id": "85c920aa",
   "metadata": {},
   "outputs": [
    {
     "name": "stdout",
     "output_type": "stream",
     "text": [
      "Requirement already satisfied: scikit-learn in c:\\users\\sarah\\anaconda3\\envs\\my-conda-env\\lib\\site-packages (1.0.2)\n",
      "Requirement already satisfied: numpy>=1.14.6 in c:\\users\\sarah\\anaconda3\\envs\\my-conda-env\\lib\\site-packages (from scikit-learn) (1.22.2)\n",
      "Requirement already satisfied: threadpoolctl>=2.0.0 in c:\\users\\sarah\\anaconda3\\envs\\my-conda-env\\lib\\site-packages (from scikit-learn) (3.1.0)\n",
      "Requirement already satisfied: joblib>=0.11 in c:\\users\\sarah\\anaconda3\\envs\\my-conda-env\\lib\\site-packages (from scikit-learn) (1.1.0)\n",
      "Requirement already satisfied: scipy>=1.1.0 in c:\\users\\sarah\\anaconda3\\envs\\my-conda-env\\lib\\site-packages (from scikit-learn) (1.8.0)\n",
      "Note: you may need to restart the kernel to use updated packages.\n"
     ]
    }
   ],
   "source": [
    "pip install scikit-learn"
   ]
  },
  {
   "cell_type": "code",
   "execution_count": 6,
   "id": "cce228c4",
   "metadata": {},
   "outputs": [
    {
     "name": "stdout",
     "output_type": "stream",
     "text": [
      "                          Event_Name  Event_Code           Event_Type  \\\n",
      "0                        Flash flood       12200  Hydrometeorological   \n",
      "1                        Flash flood       12200  Hydrometeorological   \n",
      "2                            Drought       14110  Hydrometeorological   \n",
      "3                            Drought       14110  Hydrometeorological   \n",
      "4                            Drought       14110  Hydrometeorological   \n",
      "...                              ...         ...                  ...   \n",
      "45060                    Flash flood       12200  Hydrometeorological   \n",
      "45061                    Flash flood       12200  Hydrometeorological   \n",
      "45062                          Flood       12300  Hydrometeorological   \n",
      "45063                          Flood       12300  Hydrometeorological   \n",
      "45064  Local/Convective Storm - Gale       13215  Hydrometeorological   \n",
      "\n",
      "       Type_Code  Deceased  Injured  Sick  Homeless  Displaced  MissingPeople  \\\n",
      "0              1         0        0     0         0          0              0   \n",
      "1              1         0        0     0         0          0              0   \n",
      "2              1         0        0     0         0          0              0   \n",
      "3              1         0        0     0         0          0              0   \n",
      "4              1         0        0     0         0          0              0   \n",
      "...          ...       ...      ...   ...       ...        ...            ...   \n",
      "45060          1         0        0     0        20         61              0   \n",
      "45061          1         0        0     0        93       4030              0   \n",
      "45062          1         0        0     0         0          0              0   \n",
      "45063          1         0        0     0         0          0              0   \n",
      "45064          1         0        0     0         0          0              0   \n",
      "\n",
      "       ...  Poor2010  IncomeExtremelypoor1991 IncomeExtremelypoor2000  \\\n",
      "0      ...     52.64                    44.22                   38.98   \n",
      "1      ...     52.64                    44.22                   38.98   \n",
      "2      ...     52.64                    44.22                   38.98   \n",
      "3      ...     52.64                    44.22                   38.98   \n",
      "4      ...     52.64                    44.22                   38.98   \n",
      "...    ...       ...                      ...                     ...   \n",
      "45060  ...       NaN                      NaN                     NaN   \n",
      "45061  ...       NaN                      NaN                     NaN   \n",
      "45062  ...       NaN                      NaN                     NaN   \n",
      "45063  ...       NaN                      NaN                     NaN   \n",
      "45064  ...       NaN                      NaN                     NaN   \n",
      "\n",
      "       IncomeExtremelypoor2010  IncomeVerypoor1991 IncomeVerypoor2000  \\\n",
      "0                        34.88               75.77              72.54   \n",
      "1                        34.88               75.77              72.54   \n",
      "2                        34.88               75.77              72.54   \n",
      "3                        34.88               75.77              72.54   \n",
      "4                        34.88               75.77              72.54   \n",
      "...                        ...                 ...                ...   \n",
      "45060                      NaN                 NaN                NaN   \n",
      "45061                      NaN                 NaN                NaN   \n",
      "45062                      NaN                 NaN                NaN   \n",
      "45063                      NaN                 NaN                NaN   \n",
      "45064                      NaN                 NaN                NaN   \n",
      "\n",
      "       IncomeVerypoor2010 IncomePoor1991 IncomePoor2000  IncomePoor2010  \n",
      "0                   77.66         109.78         111.53           138.0  \n",
      "1                   77.66         109.78         111.53           138.0  \n",
      "2                   77.66         109.78         111.53           138.0  \n",
      "3                   77.66         109.78         111.53           138.0  \n",
      "4                   77.66         109.78         111.53           138.0  \n",
      "...                   ...            ...            ...             ...  \n",
      "45060                 NaN            NaN            NaN             NaN  \n",
      "45061                 NaN            NaN            NaN             NaN  \n",
      "45062                 NaN            NaN            NaN             NaN  \n",
      "45063                 NaN            NaN            NaN             NaN  \n",
      "45064                 NaN            NaN            NaN             NaN  \n",
      "\n",
      "[45065 rows x 54 columns]\n"
     ]
    }
   ],
   "source": [
    "print(df)"
   ]
  },
  {
   "cell_type": "code",
   "execution_count": 7,
   "id": "1c7aa49a",
   "metadata": {},
   "outputs": [
    {
     "data": {
      "text/plain": [
       "Event_Name                   0\n",
       "Event_Code                   0\n",
       "Event_Type                   0\n",
       "Type_Code                    0\n",
       "Deceased                     0\n",
       "Injured                      0\n",
       "Sick                         0\n",
       "Homeless                     0\n",
       "Displaced                    0\n",
       "MissingPeople                0\n",
       "Other                        0\n",
       "Total                        0\n",
       "Month_char                   0\n",
       "Month_int                    0\n",
       "Year                         0\n",
       "Municipality                 0\n",
       "MunicipalityCode           641\n",
       "State                        0\n",
       "StateName                  641\n",
       "StateCode                  641\n",
       "Region                     641\n",
       "MicroregionName            641\n",
       "MicroregionCode            641\n",
       "MesoregionName             641\n",
       "MesoregionCode             641\n",
       "Latitude                   641\n",
       "Longitude                  641\n",
       "Population                 641\n",
       "IDH.M_2000                 707\n",
       "IDH.M_2010                 707\n",
       "IDH.M_Income2000           707\n",
       "IDH.M_Income2010           707\n",
       "IDH.M_Longevity2000        707\n",
       "IDH.M_Longevity2010        707\n",
       "IDH.M_Education2000        707\n",
       "IDH.M_Education2010        707\n",
       "Extremelypoor1991          707\n",
       "Extremelypoor2000          707\n",
       "Extremelypoor2010          707\n",
       "Verypoor1991               707\n",
       "Verypoor2000               707\n",
       "Verypoor2010               707\n",
       "Poor1991                   707\n",
       "Poor2000                   707\n",
       "Poor2010                   707\n",
       "IncomeExtremelypoor1991    707\n",
       "IncomeExtremelypoor2000    707\n",
       "IncomeExtremelypoor2010    707\n",
       "IncomeVerypoor1991         707\n",
       "IncomeVerypoor2000         707\n",
       "IncomeVerypoor2010         707\n",
       "IncomePoor1991             707\n",
       "IncomePoor2000             707\n",
       "IncomePoor2010             707\n",
       "dtype: int64"
      ]
     },
     "execution_count": 7,
     "metadata": {},
     "output_type": "execute_result"
    }
   ],
   "source": [
    "df.isnull().sum()"
   ]
  },
  {
   "cell_type": "code",
   "execution_count": 8,
   "id": "f4589b53",
   "metadata": {},
   "outputs": [],
   "source": [
    "#missing values in Several columns need to be imputed\n",
    "mean = df['Population'].mean() #imputing Population with mean\n",
    "df['Population'].fillna(mean, inplace =True)"
   ]
  },
  {
   "cell_type": "code",
   "execution_count": 9,
   "id": "0c7885ab",
   "metadata": {},
   "outputs": [],
   "source": [
    "#missing values in Several columns need to be imputed\n",
    "mean = df['IDH.M_2000'].mean() #imputing IDH.M_2000 with mean\n",
    "df['IDH.M_2000'].fillna(mean, inplace =True)\n",
    "\n",
    "mean = df['IDH.M_2010'].mean() #imputing IDH.M_2010 with mean\n",
    "df['IDH.M_2010'].fillna(mean, inplace =True)\n",
    "\n",
    "mean = df['IDH.M_Income2000'].mean() #imputing IDH.M_Income2000 with mean\n",
    "df['IDH.M_Income2000'].fillna(mean, inplace =True)\n",
    "\n",
    "mean = df['IDH.M_Income2010'].mean() #imputing IDH.M_Income2010 with mean\n",
    "df['IDH.M_Income2010'].fillna(mean, inplace =True)\n",
    "\n",
    "mean = df['IDH.M_Longevity2000'].mean() #imputing IDH.M_Longevity2000 with mean\n",
    "df['IDH.M_Longevity2000'].fillna(mean, inplace =True)\n",
    "\n",
    "mean = df['IDH.M_Longevity2010'].mean() #imputing IDH.M_Longevity2010 with mean\n",
    "df['IDH.M_Longevity2010'].fillna(mean, inplace =True)\n",
    "\n",
    "mean = df['IDH.M_Education2000'].mean() #imputing IDH.M_Education2000 with mean\n",
    "df['IDH.M_Education2000'].fillna(mean, inplace =True)\n",
    "\n",
    "mean = df['IDH.M_Education2010'].mean() #imputing IDH.M_Education2010 with mean\n",
    "df['IDH.M_Education2010'].fillna(mean, inplace =True)\n"
   ]
  },
  {
   "cell_type": "code",
   "execution_count": 10,
   "id": "659ad710",
   "metadata": {},
   "outputs": [],
   "source": [
    "mean = df['Extremelypoor1991'].mean() #imputing Extremelypoor1991 with mean\n",
    "df['Extremelypoor1991'].fillna(mean, inplace =True)\n",
    "\n",
    "mean = df['Extremelypoor2000'].mean() #imputing Extremelypoor2000 with mean\n",
    "df['Extremelypoor2000'].fillna(mean, inplace =True)\n",
    "\n",
    "mean = df['Extremelypoor2010'].mean() #imputing Extremelypoor2010 with mean\n",
    "df['Extremelypoor2010'].fillna(mean, inplace =True)\n",
    "\n",
    "mean = df['Verypoor1991'].mean() #imputing Verypoor1991 with mean\n",
    "df['Verypoor1991'].fillna(mean, inplace =True)\n",
    "\n",
    "mean = df['Verypoor2000'].mean() #imputing Verypoor2000 with mean\n",
    "df['Verypoor2000'].fillna(mean, inplace =True)\n",
    "\n",
    "mean = df['Verypoor2010'].mean() #imputing Verypoor2010 with mean\n",
    "df['Verypoor2010'].fillna(mean, inplace =True)\n",
    "\n",
    "mean = df['Poor1991'].mean() #imputing Poor1991 with mean\n",
    "df['Poor1991'].fillna(mean, inplace =True)\n",
    "\n",
    "mean = df['Poor2000'].mean() #imputing Poor2000 with mean\n",
    "df['Poor2000'].fillna(mean, inplace =True)\n",
    "\n",
    "mean = df['Poor2010'].mean() #imputing Poor2010 with mean\n",
    "df['Poor2010'].fillna(mean, inplace =True)\n",
    "\n",
    "mean = df['IncomeExtremelypoor1991'].mean() #imputing IncomeExtremelypoor1991 with mean\n",
    "df['IncomeExtremelypoor1991'].fillna(mean, inplace =True)\n",
    "\n",
    "mean = df['IncomeExtremelypoor2000'].mean() #imputing IncomeExtremelypoor2000 with mean\n",
    "df['IncomeExtremelypoor2000'].fillna(mean, inplace =True)\n",
    "\n",
    "mean = df['IncomeExtremelypoor2010'].mean() #imputing IncomeExtremelypoor2010 with mean\n",
    "df['IncomeExtremelypoor2010'].fillna(mean, inplace =True)\n",
    "\n",
    "mean = df['IncomeVerypoor1991'].mean() #imputing IncomeVerypoor1991 with mean\n",
    "df['IncomeVerypoor1991'].fillna(mean, inplace =True)\n",
    "\n",
    "mean = df['IncomeVerypoor2000'].mean() #imputing IncomeVerypoor2000 with mean\n",
    "df['IncomeVerypoor2000'].fillna(mean, inplace =True)\n",
    "\n",
    "mean = df['IncomeVerypoor2010'].mean() #imputing IncomeVerypoor2010 with mean\n",
    "df['IncomeVerypoor2010'].fillna(mean, inplace =True)\n",
    "\n",
    "mean = df['IncomePoor1991'].mean() #imputing Incomepoor1991 with mean\n",
    "df['IncomePoor1991'].fillna(mean, inplace =True)\n",
    "\n",
    "mean = df['Longitude'].mean() #imputing Incomepoor1991 with mean\n",
    "df['Longitude'].fillna(mean, inplace =True)\n",
    "\n",
    "mean = df['IncomePoor2000'].mean() #imputing Incomepoor2000 with mean\n",
    "df['IncomePoor2000'].fillna(mean, inplace =True)\n",
    "\n",
    "mean = df['IncomePoor2010'].mean() #imputing Incomepoor2010 with mean\n",
    "df['IncomePoor2010'].fillna(mean, inplace =True)"
   ]
  },
  {
   "cell_type": "code",
   "execution_count": 11,
   "id": "18fc5995",
   "metadata": {},
   "outputs": [],
   "source": [
    "mode = df['MunicipalityCode'].mode() #imputing MunicipalityCode with mode\n",
    "df['MunicipalityCode'].fillna(mode[0], inplace =True)\n",
    "\n",
    "mode = df['StateName'].mode() #imputing StateName with mode\n",
    "df['StateName'].fillna(mode[0], inplace =True)\n",
    "\n",
    "mode = df['StateCode'].mode() #imputing StateCode with mode\n",
    "df['StateCode'].fillna(mode[0], inplace =True)\n",
    "\n",
    "mode = df['Region'].mode() #imputing Region with mode\n",
    "df['Region'].fillna(mode[0], inplace =True)\n",
    "\n",
    "mode = df['MicroregionName'].mode() #imputing MicroregionName with mode\n",
    "df['MicroregionName'].fillna(mode[0], inplace =True)\n",
    "\n",
    "mode = df['MicroregionCode'].mode() #imputing MicroregionCode with mode\n",
    "df['MicroregionCode'].fillna(mode[0], inplace =True)\n",
    "\n",
    "mode = df['MesoregionName'].mode() #imputing MesoregionName with mode\n",
    "df['MesoregionName'].fillna(mode[0], inplace =True)\n",
    "\n",
    "mode = df['MesoregionCode'].mode() #imputing MesoRegionCode with mode\n",
    "df['MesoregionCode'].fillna(mode[0], inplace =True)"
   ]
  },
  {
   "cell_type": "code",
   "execution_count": 12,
   "id": "b3d57c7e",
   "metadata": {},
   "outputs": [
    {
     "name": "stdout",
     "output_type": "stream",
     "text": [
      "                          Event_Name  Event_Code           Event_Type  \\\n",
      "0                        Flash flood       12200  Hydrometeorological   \n",
      "1                        Flash flood       12200  Hydrometeorological   \n",
      "2                            Drought       14110  Hydrometeorological   \n",
      "3                            Drought       14110  Hydrometeorological   \n",
      "4                            Drought       14110  Hydrometeorological   \n",
      "...                              ...         ...                  ...   \n",
      "45060                    Flash flood       12200  Hydrometeorological   \n",
      "45061                    Flash flood       12200  Hydrometeorological   \n",
      "45062                          Flood       12300  Hydrometeorological   \n",
      "45063                          Flood       12300  Hydrometeorological   \n",
      "45064  Local/Convective Storm - Gale       13215  Hydrometeorological   \n",
      "\n",
      "       Type_Code  Deceased  Injured  Sick  Homeless  Displaced  MissingPeople  \\\n",
      "0              1         0        0     0         0          0              0   \n",
      "1              1         0        0     0         0          0              0   \n",
      "2              1         0        0     0         0          0              0   \n",
      "3              1         0        0     0         0          0              0   \n",
      "4              1         0        0     0         0          0              0   \n",
      "...          ...       ...      ...   ...       ...        ...            ...   \n",
      "45060          1         0        0     0        20         61              0   \n",
      "45061          1         0        0     0        93       4030              0   \n",
      "45062          1         0        0     0         0          0              0   \n",
      "45063          1         0        0     0         0          0              0   \n",
      "45064          1         0        0     0         0          0              0   \n",
      "\n",
      "       ...   Poor2010  IncomeExtremelypoor1991 IncomeExtremelypoor2000  \\\n",
      "0      ...  52.640000                44.220000               38.980000   \n",
      "1      ...  52.640000                44.220000               38.980000   \n",
      "2      ...  52.640000                44.220000               38.980000   \n",
      "3      ...  52.640000                44.220000               38.980000   \n",
      "4      ...  52.640000                44.220000               38.980000   \n",
      "...    ...        ...                      ...                     ...   \n",
      "45060  ...  46.600185                41.131798               36.915026   \n",
      "45061  ...  46.600185                41.131798               36.915026   \n",
      "45062  ...  46.600185                41.131798               36.915026   \n",
      "45063  ...  46.600185                41.131798               36.915026   \n",
      "45064  ...  46.600185                41.131798               36.915026   \n",
      "\n",
      "       IncomeExtremelypoor2010  IncomeVerypoor1991 IncomeVerypoor2000  \\\n",
      "0                    34.880000           75.770000          72.540000   \n",
      "1                    34.880000           75.770000          72.540000   \n",
      "2                    34.880000           75.770000          72.540000   \n",
      "3                    34.880000           75.770000          72.540000   \n",
      "4                    34.880000           75.770000          72.540000   \n",
      "...                        ...                 ...                ...   \n",
      "45060                32.481101           69.355438          72.098164   \n",
      "45061                32.481101           69.355438          72.098164   \n",
      "45062                32.481101           69.355438          72.098164   \n",
      "45063                32.481101           69.355438          72.098164   \n",
      "45064                32.481101           69.355438          72.098164   \n",
      "\n",
      "       IncomeVerypoor2010 IncomePoor1991 IncomePoor2000  IncomePoor2010  \n",
      "0                77.66000     109.780000     111.530000      138.000000  \n",
      "1                77.66000     109.780000     111.530000      138.000000  \n",
      "2                77.66000     109.780000     111.530000      138.000000  \n",
      "3                77.66000     109.780000     111.530000      138.000000  \n",
      "4                77.66000     109.780000     111.530000      138.000000  \n",
      "...                   ...            ...            ...             ...  \n",
      "45060            77.61392      99.943595     115.078498      140.392277  \n",
      "45061            77.61392      99.943595     115.078498      140.392277  \n",
      "45062            77.61392      99.943595     115.078498      140.392277  \n",
      "45063            77.61392      99.943595     115.078498      140.392277  \n",
      "45064            77.61392      99.943595     115.078498      140.392277  \n",
      "\n",
      "[45065 rows x 54 columns]\n"
     ]
    }
   ],
   "source": [
    "print(df)"
   ]
  },
  {
   "cell_type": "code",
   "execution_count": 13,
   "id": "19a331e2",
   "metadata": {},
   "outputs": [],
   "source": [
    "X = df[['Year','MicroregionCode','MesoregionCode','Longitude','IDH.M_Income2010','Extremelypoor2010','Verypoor1991','Poor2010','IncomePoor1991']].values\n",
    "\n",
    "y = df['Total'].values"
   ]
  },
  {
   "cell_type": "code",
   "execution_count": 14,
   "id": "ab1273cb",
   "metadata": {},
   "outputs": [],
   "source": [
    "from sklearn.model_selection import train_test_split\n",
    "X_train, X_test, y_train, y_test = train_test_split(X, y, test_size=0.2, random_state=42)"
   ]
  },
  {
   "cell_type": "code",
   "execution_count": 15,
   "id": "c0166d55",
   "metadata": {},
   "outputs": [],
   "source": [
    "import numpy as np"
   ]
  },
  {
   "cell_type": "code",
   "execution_count": 16,
   "id": "b4366005",
   "metadata": {},
   "outputs": [],
   "source": [
    "from sklearn.neighbors import KNeighborsRegressor"
   ]
  },
  {
   "cell_type": "code",
   "execution_count": 17,
   "id": "6311e3ac",
   "metadata": {},
   "outputs": [],
   "source": [
    "#Scaling\n",
    "from sklearn.preprocessing import MinMaxScaler\n",
    "scaler = MinMaxScaler(feature_range=(0, 1))\n",
    "\n",
    "x_train_scaled = scaler.fit_transform(X_train)\n",
    "x_train = pd.DataFrame(x_train_scaled)\n",
    "\n",
    "x_test_scaled = scaler.fit_transform(X_test)\n",
    "x_test = pd.DataFrame(x_test_scaled)"
   ]
  },
  {
   "cell_type": "code",
   "execution_count": 18,
   "id": "8e508afa",
   "metadata": {},
   "outputs": [],
   "source": [
    "#import required packages\n",
    "from sklearn import neighbors\n",
    "from sklearn.metrics import mean_squared_error \n",
    "from math import sqrt"
   ]
  },
  {
   "cell_type": "code",
   "execution_count": 19,
   "id": "ddcfee3b",
   "metadata": {},
   "outputs": [
    {
     "name": "stdout",
     "output_type": "stream",
     "text": [
      "RMSE value for k=  1 is: 43832.34353500086\n",
      "RMSE value for k=  2 is: 37475.20411928597\n",
      "RMSE value for k=  3 is: 39427.03671858602\n",
      "RMSE value for k=  4 is: 38584.600887554494\n",
      "RMSE value for k=  5 is: 43936.119863560394\n",
      "RMSE value for k=  6 is: 42954.19255091401\n",
      "RMSE value for k=  7 is: 41922.5576077307\n",
      "RMSE value for k=  8 is: 42361.2796187008\n",
      "RMSE value for k=  9 is: 41761.71718109267\n",
      "RMSE value for k=  10 is: 46072.12371709069\n",
      "RMSE value for k=  11 is: 44913.57103094029\n",
      "RMSE value for k=  12 is: 44046.40129129057\n",
      "RMSE value for k=  13 is: 43641.90160329902\n",
      "RMSE value for k=  14 is: 44021.790535979155\n",
      "RMSE value for k=  15 is: 43588.610075344506\n",
      "RMSE value for k=  16 is: 43155.33785191005\n",
      "RMSE value for k=  17 is: 43333.77321938705\n",
      "RMSE value for k=  18 is: 43008.04773127503\n",
      "RMSE value for k=  19 is: 42780.587204692936\n",
      "RMSE value for k=  20 is: 42819.08492779103\n",
      "RMSE value for k=  21 is: 42728.68711933154\n",
      "RMSE value for k=  22 is: 43140.56854762443\n",
      "RMSE value for k=  23 is: 43068.456714379434\n",
      "RMSE value for k=  24 is: 42780.64002005924\n",
      "RMSE value for k=  25 is: 42573.99359654133\n",
      "RMSE value for k=  26 is: 42324.09661057099\n",
      "RMSE value for k=  27 is: 42144.89019357948\n",
      "RMSE value for k=  28 is: 42383.33809493458\n",
      "RMSE value for k=  29 is: 42329.32008376116\n",
      "RMSE value for k=  30 is: 42373.47960544261\n",
      "RMSE value for k=  31 is: 42244.05818343825\n",
      "RMSE value for k=  32 is: 42296.24879553326\n",
      "RMSE value for k=  33 is: 42188.789670589824\n",
      "RMSE value for k=  34 is: 42202.292043663256\n",
      "RMSE value for k=  35 is: 42280.82659020107\n",
      "RMSE value for k=  36 is: 42280.674577274505\n",
      "RMSE value for k=  37 is: 42162.884073544294\n",
      "RMSE value for k=  38 is: 42058.349217963754\n",
      "RMSE value for k=  39 is: 41946.06749944944\n",
      "RMSE value for k=  40 is: 41849.51377930091\n",
      "RMSE value for k=  41 is: 41888.22125659608\n",
      "RMSE value for k=  42 is: 41800.073132741716\n",
      "RMSE value for k=  43 is: 41753.304501495186\n",
      "RMSE value for k=  44 is: 41662.67966478561\n",
      "RMSE value for k=  45 is: 41592.151261570005\n",
      "RMSE value for k=  46 is: 41526.422311375485\n",
      "RMSE value for k=  47 is: 41458.91100869793\n",
      "RMSE value for k=  48 is: 41493.992655449365\n",
      "RMSE value for k=  49 is: 41459.79551532796\n",
      "RMSE value for k=  50 is: 41398.32051562026\n"
     ]
    }
   ],
   "source": [
    "rmse_val = [] #to store rmse values for different k\n",
    "for K in range(50):\n",
    "    K = K+1\n",
    "    model = neighbors.KNeighborsRegressor(n_neighbors = K)\n",
    "\n",
    "    model.fit(x_train, y_train)  #fit the model\n",
    "    pred=model.predict(x_test) #make prediction on test set\n",
    "    error = sqrt(mean_squared_error(y_test,pred)) #calculate rmse\n",
    "    rmse_val.append(error) #store rmse values\n",
    "    print('RMSE value for k= ' , K , 'is:', error)"
   ]
  },
  {
   "cell_type": "code",
   "execution_count": 20,
   "id": "2e2db62e",
   "metadata": {},
   "outputs": [
    {
     "name": "stdout",
     "output_type": "stream",
     "text": [
      "Requirement already satisfied: matplotlib in c:\\users\\sarah\\anaconda3\\envs\\my-conda-env\\lib\\site-packages (3.5.1)\n",
      "Requirement already satisfied: kiwisolver>=1.0.1 in c:\\users\\sarah\\anaconda3\\envs\\my-conda-env\\lib\\site-packages (from matplotlib) (1.3.2)\n",
      "Requirement already satisfied: python-dateutil>=2.7 in c:\\users\\sarah\\anaconda3\\envs\\my-conda-env\\lib\\site-packages (from matplotlib) (2.8.2)\n",
      "Requirement already satisfied: pillow>=6.2.0 in c:\\users\\sarah\\anaconda3\\envs\\my-conda-env\\lib\\site-packages (from matplotlib) (9.0.1)\n",
      "Requirement already satisfied: pyparsing>=2.2.1 in c:\\users\\sarah\\anaconda3\\envs\\my-conda-env\\lib\\site-packages (from matplotlib) (3.0.4)\n",
      "Requirement already satisfied: cycler>=0.10 in c:\\users\\sarah\\anaconda3\\envs\\my-conda-env\\lib\\site-packages (from matplotlib) (0.11.0)\n",
      "Requirement already satisfied: fonttools>=4.22.0 in c:\\users\\sarah\\anaconda3\\envs\\my-conda-env\\lib\\site-packages (from matplotlib) (4.29.1)\n",
      "Requirement already satisfied: packaging>=20.0 in c:\\users\\sarah\\anaconda3\\envs\\my-conda-env\\lib\\site-packages (from matplotlib) (21.3)\n",
      "Requirement already satisfied: numpy>=1.17 in c:\\users\\sarah\\anaconda3\\envs\\my-conda-env\\lib\\site-packages (from matplotlib) (1.22.2)\n",
      "Requirement already satisfied: six>=1.5 in c:\\users\\sarah\\anaconda3\\envs\\my-conda-env\\lib\\site-packages (from python-dateutil>=2.7->matplotlib) (1.16.0)\n",
      "Note: you may need to restart the kernel to use updated packages.\n"
     ]
    }
   ],
   "source": [
    "pip install matplotlib"
   ]
  },
  {
   "cell_type": "code",
   "execution_count": 21,
   "id": "6db484a4",
   "metadata": {},
   "outputs": [
    {
     "data": {
      "text/plain": [
       "{'n_neighbors': 50}"
      ]
     },
     "execution_count": 21,
     "metadata": {},
     "output_type": "execute_result"
    }
   ],
   "source": [
    "from sklearn.model_selection import GridSearchCV\n",
    "params = {'n_neighbors':[1,2,3,4,5,6,7,8,9, 10, 11,12,13,14,15,16,17,40,50]}\n",
    "\n",
    "knn = neighbors.KNeighborsRegressor()\n",
    "\n",
    "model = GridSearchCV(knn, params, cv=5)\n",
    "model.fit(X_train,y_train)\n",
    "model.best_params_"
   ]
  },
  {
   "cell_type": "code",
   "execution_count": 22,
   "id": "0608a8b0",
   "metadata": {},
   "outputs": [
    {
     "data": {
      "text/plain": [
       "<AxesSubplot:>"
      ]
     },
     "execution_count": 22,
     "metadata": {},
     "output_type": "execute_result"
    },
    {
     "data": {
      "image/png": "[encoded data removed]",
      "text/plain": [
       "<Figure size 432x288 with 1 Axes>"
      ]
     },
     "metadata": {
      "needs_background": "light"
     },
     "output_type": "display_data"
    }
   ],
   "source": [
    "#plotting the rmse values against k values\n",
    "curve = pd.DataFrame(rmse_val) #elbow curve\n",
    "curve.plot()"
   ]
  },
  {
   "cell_type": "code",
   "execution_count": 23,
   "id": "f307b4b8",
   "metadata": {},
   "outputs": [
    {
     "data": {
      "text/plain": [
       "{'n_neighbors': 50}"
      ]
     },
     "execution_count": 23,
     "metadata": {},
     "output_type": "execute_result"
    }
   ],
   "source": [
    "from sklearn.model_selection import GridSearchCV\n",
    "params = {'n_neighbors':[1,2,3,4,5,6,7,8,9, 10, 11,12,13,14,15,16,17,18,19,20,21,22,23,24,25,26,27,28,29,30,31,32,33,34,35,36,37,38,39,40,41, 42, 43, 44, 45, 46, 47, 48, 49, 50]}\n",
    "\n",
    "knn = neighbors.KNeighborsRegressor()\n",
    "\n",
    "model = GridSearchCV(knn, params, cv=5)\n",
    "model.fit(X_train,y_train)\n",
    "model.best_params_"
   ]
  },
  {
   "cell_type": "code",
   "execution_count": 24,
   "id": "8a0dccdc",
   "metadata": {},
   "outputs": [],
   "source": [
    "reg = KNeighborsRegressor(n_neighbors = 50)"
   ]
  },
  {
   "cell_type": "code",
   "execution_count": 25,
   "id": "2a01f7ab",
   "metadata": {},
   "outputs": [
    {
     "data": {
      "text/plain": [
       "KNeighborsRegressor(n_neighbors=50)"
      ]
     },
     "execution_count": 25,
     "metadata": {},
     "output_type": "execute_result"
    }
   ],
   "source": [
    "#Fitting the model\n",
    "reg.fit(X_train, y_train)"
   ]
  },
  {
   "cell_type": "code",
   "execution_count": 26,
   "id": "5db286ec",
   "metadata": {},
   "outputs": [],
   "source": [
    "from sklearn.metrics import mean_squared_error as mse"
   ]
  },
  {
   "cell_type": "code",
   "execution_count": 27,
   "id": "3ac697d4",
   "metadata": {},
   "outputs": [
    {
     "name": "stdout",
     "output_type": "stream",
     "text": [
      "Test MSE   1698740690.144783\n"
     ]
    }
   ],
   "source": [
    "#Predicting over the test set\n",
    "test_predict = reg.predict(X_test)\n",
    "k = mse(test_predict, y_test)\n",
    "print('Test MSE  ',k)"
   ]
  },
  {
   "cell_type": "code",
   "execution_count": 28,
   "id": "cea4b36d",
   "metadata": {},
   "outputs": [
    {
     "name": "stdout",
     "output_type": "stream",
     "text": [
      "Test MSE   1796984090.7319958\n"
     ]
    }
   ],
   "source": [
    "#With default variable of 5\n",
    "reg = KNeighborsRegressor(n_neighbors = 5)\n",
    "#Fitting the model\n",
    "reg.fit(X_train, y_train)\n",
    "#Predicting over the test set\n",
    "test_predict = reg.predict(X_test)\n",
    "k = mse(test_predict, y_test)\n",
    "print('Test MSE  ',k)"
   ]
  },
  {
   "cell_type": "code",
   "execution_count": 29,
   "id": "7f427e05",
   "metadata": {},
   "outputs": [],
   "source": [
    "#So with 5, it's 259,851 and reduces to 258,602\n",
    "knn.fit(X_train,y_train)\n",
    "test_score = knn.score(X_test,y_test)\n",
    "train_score = knn.score(X_train,y_train)"
   ]
  },
  {
   "cell_type": "code",
   "execution_count": 30,
   "id": "67388d07",
   "metadata": {},
   "outputs": [
    {
     "name": "stdout",
     "output_type": "stream",
     "text": [
      "-0.09389364512961196\n"
     ]
    }
   ],
   "source": [
    "print(test_score)"
   ]
  },
  {
   "cell_type": "code",
   "execution_count": 31,
   "id": "b9f792e2",
   "metadata": {},
   "outputs": [
    {
     "name": "stdout",
     "output_type": "stream",
     "text": [
      "0.1894898305411098\n",
      "Accuracy=12.204593365139244%\n"
     ]
    }
   ],
   "source": [
    "print(train_score)\n",
    "pred=reg.predict(X_test)\n",
    "print(\"Accuracy={}%\".format((sum(y_test==pred)/y_test.shape[0])*100))"
   ]
  },
  {
   "cell_type": "code",
   "execution_count": 32,
   "id": "a959a7e8",
   "metadata": {},
   "outputs": [],
   "source": [
    "# Create an array\n",
    "knn_r_acc = []"
   ]
  },
  {
   "cell_type": "code",
   "execution_count": 33,
   "id": "f8afb0a0",
   "metadata": {},
   "outputs": [],
   "source": [
    "knn_r_acc.append((1, test_score ,train_score))"
   ]
  },
  {
   "cell_type": "code",
   "execution_count": 34,
   "id": "a38ae79e",
   "metadata": {},
   "outputs": [
    {
     "name": "stdout",
     "output_type": "stream",
     "text": [
      "[(1, -0.09389364512961196, 0.1894898305411098)]\n"
     ]
    }
   ],
   "source": [
    "print(knn_r_acc)"
   ]
  }
 ],
 "metadata": {
  "kernelspec": {
   "display_name": "Python 3 (ipykernel)",
   "language": "python",
   "name": "python3"
  },
  "language_info": {
   "codemirror_mode": {
    "name": "ipython",
    "version": 3
   },
   "file_extension": ".py",
   "mimetype": "text/x-python",
   "name": "python",
   "nbconvert_exporter": "python",
   "pygments_lexer": "ipython3",
   "version": "3.9.7"
  }
 },
 "nbformat": 4,
 "nbformat_minor": 5
}
