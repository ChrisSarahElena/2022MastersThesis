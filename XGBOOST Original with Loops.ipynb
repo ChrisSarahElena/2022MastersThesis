{
 "cells": [
  {
   "cell_type": "code",
   "execution_count": 1,
   "id": "5852e406",
   "metadata": {},
   "outputs": [
    {
     "name": "stdout",
     "output_type": "stream",
     "text": [
      "Requirement already satisfied: pandas in c:\\users\\sarah\\anaconda3\\envs\\my-conda-env\\lib\\site-packages (1.4.1)\n",
      "Requirement already satisfied: pytz>=2020.1 in c:\\users\\sarah\\anaconda3\\envs\\my-conda-env\\lib\\site-packages (from pandas) (2021.3)\n",
      "Requirement already satisfied: numpy>=1.18.5 in c:\\users\\sarah\\anaconda3\\envs\\my-conda-env\\lib\\site-packages (from pandas) (1.22.2)\n",
      "Requirement already satisfied: python-dateutil>=2.8.1 in c:\\users\\sarah\\anaconda3\\envs\\my-conda-env\\lib\\site-packages (from pandas) (2.8.2)\n",
      "Requirement already satisfied: six>=1.5 in c:\\users\\sarah\\anaconda3\\envs\\my-conda-env\\lib\\site-packages (from python-dateutil>=2.8.1->pandas) (1.16.0)\n",
      "Note: you may need to restart the kernel to use updated packages.\n"
     ]
    }
   ],
   "source": [
    "pip install pandas"
   ]
  },
  {
   "cell_type": "code",
   "execution_count": 2,
   "id": "255f6240",
   "metadata": {},
   "outputs": [
    {
     "name": "stdout",
     "output_type": "stream",
     "text": [
      "Requirement already satisfied: xlrd in c:\\users\\sarah\\anaconda3\\envs\\my-conda-env\\lib\\site-packages (2.0.1)\n",
      "Note: you may need to restart the kernel to use updated packages.\n"
     ]
    }
   ],
   "source": [
    "pip install xlrd"
   ]
  },
  {
   "cell_type": "code",
   "execution_count": 3,
   "id": "6e604157",
   "metadata": {},
   "outputs": [],
   "source": [
    "import pandas as pd"
   ]
  },
  {
   "cell_type": "code",
   "execution_count": 4,
   "id": "d3c0ef0c",
   "metadata": {},
   "outputs": [
    {
     "name": "stdout",
     "output_type": "stream",
     "text": [
      "                          Event_Name  Event_Code           Event_Type  \\\n",
      "0                            Drought       14110  Hydrometeorological   \n",
      "1                            Drought       14110  Hydrometeorological   \n",
      "2                            Drought       14110  Hydrometeorological   \n",
      "3                            Drought       14110  Hydrometeorological   \n",
      "4                            Drought       14110  Hydrometeorological   \n",
      "...                              ...         ...                  ...   \n",
      "45060                        Drought       14110  Hydrometeorological   \n",
      "45061                        Drought       14110  Hydrometeorological   \n",
      "45062                    Flash flood       12200  Hydrometeorological   \n",
      "45063                    Flash flood       12200  Hydrometeorological   \n",
      "45064  Local/Convective Storm - Gale       13215  Hydrometeorological   \n",
      "\n",
      "       Type_Code  Deceased  Injured  Sick  Homeless  Displaced  MissingPeople  \\\n",
      "0              1         0        0     0         0          0              0   \n",
      "1              1         0        0     0         0          0              0   \n",
      "2              1         0        0     0         0          0              0   \n",
      "3              1         0        0     0         0          0              0   \n",
      "4              1         0        0     0         0          0              0   \n",
      "...          ...       ...      ...   ...       ...        ...            ...   \n",
      "45060          1         0        0     0         0          0              0   \n",
      "45061          1         0        0     0         0          0              0   \n",
      "45062          1         0        0     0         0          0              0   \n",
      "45063          1         0        0     0         0          0              0   \n",
      "45064          1         0        2     0         1         22              0   \n",
      "\n",
      "       ...  IncomeExtremelypoor2010  IncomeVerypoor1991 IncomeVerypoor2000  \\\n",
      "0      ...                    28.27               61.82              56.01   \n",
      "1      ...                    36.41               63.29              60.77   \n",
      "2      ...                    28.13               64.39              51.62   \n",
      "3      ...                    38.71               70.60              61.21   \n",
      "4      ...                    34.48               65.30              64.00   \n",
      "...    ...                      ...                 ...                ...   \n",
      "45060  ...                    30.34               65.42              66.44   \n",
      "45061  ...                    22.62               53.53              41.23   \n",
      "45062  ...                    19.87               86.95              88.83   \n",
      "45063  ...                    28.49               88.63             105.88   \n",
      "45064  ...                    23.66               69.10              64.30   \n",
      "\n",
      "       IncomeVerypoor2010  IncomePoor1991  IncomePoor2000  IncomePoor2010  \\\n",
      "0                   71.27           81.05           82.28          119.46   \n",
      "1                   71.44           85.99           90.67          124.08   \n",
      "2                   57.96           83.23           80.45          109.79   \n",
      "3                   72.71           97.00           98.24          119.12   \n",
      "4                   70.69           86.65           89.75          122.46   \n",
      "...                   ...             ...             ...             ...   \n",
      "45060               68.55           91.28          103.79          123.16   \n",
      "45061               48.15           63.48           55.30           82.73   \n",
      "45062               77.49          138.97          148.73          173.24   \n",
      "45063               96.00          147.58          171.98          170.49   \n",
      "45064               62.43           97.08          100.44          115.26   \n",
      "\n",
      "      Train Set IsDeceased  IsTotal  \n",
      "0             0          0        0  \n",
      "1             0          0        0  \n",
      "2             0          0        0  \n",
      "3             0          0        0  \n",
      "4             0          0        0  \n",
      "...         ...        ...      ...  \n",
      "45060         1          0        1  \n",
      "45061         1          0        1  \n",
      "45062         1          0        1  \n",
      "45063         1          0        1  \n",
      "45064         1          0        1  \n",
      "\n",
      "[45065 rows x 60 columns]\n"
     ]
    }
   ],
   "source": [
    "df = pd.read_excel(\"Desktop\\Thesis\\Disaster_Clean4.xlsx\")\n",
    "print(df)"
   ]
  },
  {
   "cell_type": "code",
   "execution_count": 5,
   "id": "ecb2294d",
   "metadata": {},
   "outputs": [
    {
     "name": "stdout",
     "output_type": "stream",
     "text": [
      "Requirement already satisfied: scikit-learn in c:\\users\\sarah\\anaconda3\\envs\\my-conda-env\\lib\\site-packages (1.0.2)\n",
      "Requirement already satisfied: threadpoolctl>=2.0.0 in c:\\users\\sarah\\anaconda3\\envs\\my-conda-env\\lib\\site-packages (from scikit-learn) (3.1.0)\n",
      "Requirement already satisfied: numpy>=1.14.6 in c:\\users\\sarah\\anaconda3\\envs\\my-conda-env\\lib\\site-packages (from scikit-learn) (1.22.2)\n",
      "Requirement already satisfied: scipy>=1.1.0 in c:\\users\\sarah\\anaconda3\\envs\\my-conda-env\\lib\\site-packages (from scikit-learn) (1.8.0)\n",
      "Requirement already satisfied: joblib>=0.11 in c:\\users\\sarah\\anaconda3\\envs\\my-conda-env\\lib\\site-packages (from scikit-learn) (1.1.0)\n",
      "Note: you may need to restart the kernel to use updated packages.\n"
     ]
    }
   ],
   "source": [
    "pip install scikit-learn"
   ]
  },
  {
   "cell_type": "code",
   "execution_count": 6,
   "id": "371509c0",
   "metadata": {},
   "outputs": [
    {
     "name": "stdout",
     "output_type": "stream",
     "text": [
      "Requirement already satisfied: xgboost in c:\\users\\sarah\\anaconda3\\envs\\my-conda-env\\lib\\site-packages (1.5.2)\n",
      "Requirement already satisfied: scipy in c:\\users\\sarah\\anaconda3\\envs\\my-conda-env\\lib\\site-packages (from xgboost) (1.8.0)\n",
      "Requirement already satisfied: numpy in c:\\users\\sarah\\anaconda3\\envs\\my-conda-env\\lib\\site-packages (from xgboost) (1.22.2)\n",
      "Note: you may need to restart the kernel to use updated packages.\n"
     ]
    }
   ],
   "source": [
    "pip install xgboost"
   ]
  },
  {
   "cell_type": "code",
   "execution_count": 7,
   "id": "b54e1294",
   "metadata": {},
   "outputs": [
    {
     "name": "stdout",
     "output_type": "stream",
     "text": [
      "Requirement already satisfied: xlwt in c:\\users\\sarah\\anaconda3\\envs\\my-conda-env\\lib\\site-packages (1.3.0)\n",
      "Note: you may need to restart the kernel to use updated packages.\n"
     ]
    }
   ],
   "source": [
    "pip install xlwt"
   ]
  },
  {
   "cell_type": "code",
   "execution_count": 8,
   "id": "c310b610",
   "metadata": {},
   "outputs": [],
   "source": [
    "import xlwt"
   ]
  },
  {
   "cell_type": "code",
   "execution_count": 9,
   "id": "07a11173",
   "metadata": {},
   "outputs": [
    {
     "name": "stderr",
     "output_type": "stream",
     "text": [
      "C:\\Users\\Sarah\\anaconda3\\envs\\my-conda-env\\lib\\site-packages\\xgboost\\compat.py:36: FutureWarning: pandas.Int64Index is deprecated and will be removed from pandas in a future version. Use pandas.Index with the appropriate dtype instead.\n",
      "  from pandas import MultiIndex, Int64Index\n"
     ]
    }
   ],
   "source": [
    "from xgboost import XGBRegressor"
   ]
  },
  {
   "cell_type": "code",
   "execution_count": 10,
   "id": "8dab8a03",
   "metadata": {},
   "outputs": [],
   "source": [
    "from sklearn.model_selection import cross_val_score, KFold\n",
    "\n"
   ]
  },
  {
   "cell_type": "code",
   "execution_count": 11,
   "id": "e2c029a6",
   "metadata": {},
   "outputs": [],
   "source": [
    "from sklearn.metrics import mean_squared_error"
   ]
  },
  {
   "cell_type": "code",
   "execution_count": 12,
   "id": "7c2bfa7c",
   "metadata": {},
   "outputs": [],
   "source": [
    "import numpy as np"
   ]
  },
  {
   "cell_type": "code",
   "execution_count": 13,
   "id": "983bae46",
   "metadata": {
    "scrolled": true
   },
   "outputs": [
    {
     "name": "stdout",
     "output_type": "stream",
     "text": [
      "XGBRegressor(base_score=None, booster='gblinear', colsample_bylevel=None,\n",
      "             colsample_bynode=None, colsample_bytree=None,\n",
      "             early_stopping_rounds=10, enable_categorical=False,\n",
      "             eval_metric='mae', gamma=None, gpu_id=None, importance_type=None,\n",
      "             interaction_constraints=None, learning_rate=None,\n",
      "             max_delta_step=None, max_depth=None, min_child_weight=None,\n",
      "             missing=nan, monotone_constraints=None, n_estimators=100,\n",
      "             n_jobs=None, num_boost_round=999, num_parallel_tree=None,\n",
      "             predictor=None, random_state=None, reg_alpha=None, reg_lambda=None,\n",
      "             scale_pos_weight=None, subsample=None, tree_method=None,\n",
      "             validate_parameters=None, ...)\n",
      "Training score:  0.00027887286787031673\n",
      "MSE: 632.67\n",
      "RMSE: 25.15\n",
      "Accuracy: 11.69%\n"
     ]
    },
    {
     "name": "stderr",
     "output_type": "stream",
     "text": [
      "C:\\Users\\Sarah\\anaconda3\\envs\\my-conda-env\\lib\\site-packages\\sklearn\\model_selection\\_split.py:676: UserWarning: The least populated class in y has only 1 members, which is less than n_splits=5.\n",
      "  warnings.warn(\n"
     ]
    },
    {
     "name": "stdout",
     "output_type": "stream",
     "text": [
      "Accuracy: -2.01% (2.15%)\n"
     ]
    }
   ],
   "source": [
    "from xgboost import XGBRegressor\n",
    "from sklearn.model_selection import cross_val_score, KFold\n",
    "from sklearn.model_selection import train_test_split\n",
    "from sklearn.metrics import mean_squared_error\n",
    "from sklearn.metrics import accuracy_score\n",
    "import numpy as np\n",
    "\n",
    "seed = 40\n",
    "test_size = 0.2\n",
    "\n",
    "\n",
    "knn_r_acc = []\n",
    "\n",
    "X = df[['Population','IDH.M_Income2000','IDH.M_Longevity2010','IDH.M_Education2010','Verypoor1991']].values\n",
    "y = df['Deceased'].values\n",
    "x_train,x_test,y_train,y_test = train_test_split (X,y,test_size=test_size,random_state = seed)\n",
    "    \n",
    "xgbr = XGBRegressor(verbosity=0, booster = \"gblinear\", eval_metric = \"mae\", num_boost_round = 999, early_stopping_rounds=10) \n",
    "print(xgbr)\n",
    "xgbr.fit(x_train, y_train)\n",
    "score = xgbr.score(x_train, y_train)  \n",
    "print(\"Training score: \", score)\n",
    "\n",
    "ypred = xgbr.predict(x_test)\n",
    "\n",
    "mse = mean_squared_error(y_test, ypred)\n",
    "print(\"MSE: %.2f\" % mse)\n",
    "print(\"RMSE: %.2f\" % (mse**(1/2.0)))\n",
    "\n",
    "#Training Cross Validation\n",
    "scores = cross_val_score(XGBRegressor(objective='reg:squarederror'), X, y, scoring='neg_mean_squared_error')\n",
    "(-scores)**0.5\n",
    "\n",
    "predictions = [round(value) for value in ypred]\n",
    "accuracy = accuracy_score(y_test, predictions)\n",
    "print(\"Accuracy: %.2f%%\" % (accuracy * 100.0))\n",
    "\n",
    "from sklearn.model_selection import StratifiedKFold\n",
    "\n",
    "kfold = StratifiedKFold(shuffle = True, n_splits=5, random_state=7)\n",
    "results = cross_val_score(xgbr, X, y, cv=kfold)\n",
    "print(\"Accuracy: %.2f%% (%.2f%%)\" % (results.mean()*100, results.std()*100))\n"
   ]
  },
  {
   "cell_type": "code",
   "execution_count": 15,
   "id": "7f759446",
   "metadata": {},
   "outputs": [],
   "source": [
    "Drought = df[(df[\"Event_Name\"] == 'Drought')]\n",
    "\n",
    "Flood = df[(df[\"Event_Name\"] == 'Flood')]\n",
    "\n",
    "Flashflood = df[(df[\"Event_Name\"] == 'Flash flood')]\n",
    "\n",
    "Inundation = df[(df[\"Event_Name\"] == 'Inundation')]\n",
    "\n",
    "Landslide = df[(df[\"Event_Name\"] == 'Landslide')]\n",
    "\n",
    "Hail = df[(df[\"Event_Name\"] == 'Local / Convective Storm - Hail')]\n",
    "\n",
    "HeavyRainfall = df[(df[\"Event_Name\"] == 'Local / Convective Storm - Heavy Rainfalls')]\n",
    "\n",
    "Gale = df[(df[\"Event_Name\"] == 'Local/Convective Storm - Gale')]\n",
    "\n",
    "Subsidenceandcollapse = df[(df[\"Event_Name\"] == 'Subsidence and collapses')]\n",
    "\n"
   ]
  },
  {
   "cell_type": "code",
   "execution_count": 16,
   "id": "2152b0aa",
   "metadata": {},
   "outputs": [],
   "source": [
    "Northeast_train = df[(df[\"Region\"] == 'Northeast')]\n",
    "North_train = df[(df[\"Region\"] == 'North')]\n",
    "South_train = df[(df[\"Region\"] == 'South')]\n",
    "Southeast_train = df[(df[\"Region\"] == 'Southeast')]\n",
    "Midwest_train = df[(df[\"Region\"] == 'Midwest')]\n",
    "\n",
    "Northeast_test = df[(df[\"Region\"] == 'Northeast')]\n",
    "North_test = df[(df[\"Region\"] == 'North')]\n",
    "South_test = df[(df[\"Region\"] == 'South')]\n",
    "Southeast_test = df[(df[\"Region\"] == 'Southeast')]\n",
    "Midwest_test = df[(df[\"Region\"] == 'Midwest')]\n"
   ]
  },
  {
   "cell_type": "code",
   "execution_count": 18,
   "id": "0465865b",
   "metadata": {},
   "outputs": [
    {
     "name": "stdout",
     "output_type": "stream",
     "text": [
      "XGBRegressor(base_score=None, booster='gblinear', colsample_bylevel=None,\n",
      "             colsample_bynode=None, colsample_bytree=None,\n",
      "             enable_categorical=False, gamma=None, gpu_id=None,\n",
      "             importance_type=None, interaction_constraints=None,\n",
      "             learning_rate=None, max_delta_step=None, max_depth=None,\n",
      "             min_child_weight=None, missing=nan, monotone_constraints=None,\n",
      "             n_estimators=100, n_jobs=None, num_parallel_tree=None,\n",
      "             predictor=None, random_state=None, reg_alpha=None, reg_lambda=None,\n",
      "             scale_pos_weight=None, subsample=None, tree_method=None,\n",
      "             validate_parameters=None, verbosity=0)\n",
      "Training score:  0.007704907743462441\n",
      "MSE: 291.70\n",
      "RMSE: 17.08\n",
      "K-fold CV average score: -0.37\n",
      "Accuracy: 2.25%\n",
      "XGBRegressor(base_score=None, booster='gblinear', colsample_bylevel=None,\n",
      "             colsample_bynode=None, colsample_bytree=None,\n",
      "             enable_categorical=False, gamma=None, gpu_id=None,\n",
      "             importance_type=None, interaction_constraints=None,\n",
      "             learning_rate=None, max_delta_step=None, max_depth=None,\n",
      "             min_child_weight=None, missing=nan, monotone_constraints=None,\n",
      "             n_estimators=100, n_jobs=None, num_parallel_tree=None,\n",
      "             predictor=None, random_state=None, reg_alpha=None, reg_lambda=None,\n",
      "             scale_pos_weight=None, subsample=None, tree_method=None,\n",
      "             validate_parameters=None, verbosity=0)\n",
      "Training score:  0.004149692461923982\n",
      "MSE: 1621593.45\n",
      "RMSE: 1273.42\n",
      "K-fold CV average score: -1.91\n",
      "Accuracy: 39.92%\n",
      "XGBRegressor(base_score=None, booster='gblinear', colsample_bylevel=None,\n",
      "             colsample_bynode=None, colsample_bytree=None,\n",
      "             enable_categorical=False, gamma=None, gpu_id=None,\n",
      "             importance_type=None, interaction_constraints=None,\n",
      "             learning_rate=None, max_delta_step=None, max_depth=None,\n",
      "             min_child_weight=None, missing=nan, monotone_constraints=None,\n",
      "             n_estimators=100, n_jobs=None, num_parallel_tree=None,\n",
      "             predictor=None, random_state=None, reg_alpha=None, reg_lambda=None,\n",
      "             scale_pos_weight=None, subsample=None, tree_method=None,\n",
      "             validate_parameters=None, verbosity=0)\n",
      "Training score:  0.015876204948519157\n",
      "MSE: 779.19\n",
      "RMSE: 27.91\n",
      "K-fold CV average score: -0.09\n",
      "Accuracy: 9.83%\n",
      "XGBRegressor(base_score=None, booster='gblinear', colsample_bylevel=None,\n",
      "             colsample_bynode=None, colsample_bytree=None,\n",
      "             enable_categorical=False, gamma=None, gpu_id=None,\n",
      "             importance_type=None, interaction_constraints=None,\n",
      "             learning_rate=None, max_delta_step=None, max_depth=None,\n",
      "             min_child_weight=None, missing=nan, monotone_constraints=None,\n",
      "             n_estimators=100, n_jobs=None, num_parallel_tree=None,\n",
      "             predictor=None, random_state=None, reg_alpha=None, reg_lambda=None,\n",
      "             scale_pos_weight=None, subsample=None, tree_method=None,\n",
      "             validate_parameters=None, verbosity=0)\n",
      "Training score:  0.04160583669300966\n",
      "MSE: 25284.35\n",
      "RMSE: 159.01\n",
      "K-fold CV average score: -6.33\n",
      "Accuracy: 9.28%\n",
      "XGBRegressor(base_score=None, booster='gblinear', colsample_bylevel=None,\n",
      "             colsample_bynode=None, colsample_bytree=None,\n",
      "             enable_categorical=False, gamma=None, gpu_id=None,\n",
      "             importance_type=None, interaction_constraints=None,\n",
      "             learning_rate=None, max_delta_step=None, max_depth=None,\n",
      "             min_child_weight=None, missing=nan, monotone_constraints=None,\n",
      "             n_estimators=100, n_jobs=None, num_parallel_tree=None,\n",
      "             predictor=None, random_state=None, reg_alpha=None, reg_lambda=None,\n",
      "             scale_pos_weight=None, subsample=None, tree_method=None,\n",
      "             validate_parameters=None, verbosity=0)\n",
      "Training score:  -0.020132167367229892\n",
      "MSE: 0.06\n",
      "RMSE: 0.24\n",
      "K-fold CV average score: -0.02\n",
      "Accuracy: 98.51%\n",
      "XGBRegressor(base_score=None, booster='gblinear', colsample_bylevel=None,\n",
      "             colsample_bynode=None, colsample_bytree=None,\n",
      "             enable_categorical=False, gamma=None, gpu_id=None,\n",
      "             importance_type=None, interaction_constraints=None,\n",
      "             learning_rate=None, max_delta_step=None, max_depth=None,\n",
      "             min_child_weight=None, missing=nan, monotone_constraints=None,\n",
      "             n_estimators=100, n_jobs=None, num_parallel_tree=None,\n",
      "             predictor=None, random_state=None, reg_alpha=None, reg_lambda=None,\n",
      "             scale_pos_weight=None, subsample=None, tree_method=None,\n",
      "             validate_parameters=None, verbosity=0)\n",
      "Training score:  0.0022434775099420268\n",
      "MSE: 199.52\n",
      "RMSE: 14.13\n",
      "K-fold CV average score: -0.06\n",
      "Accuracy: 54.02%\n",
      "XGBRegressor(base_score=None, booster='gblinear', colsample_bylevel=None,\n",
      "             colsample_bynode=None, colsample_bytree=None,\n",
      "             enable_categorical=False, gamma=None, gpu_id=None,\n",
      "             importance_type=None, interaction_constraints=None,\n",
      "             learning_rate=None, max_delta_step=None, max_depth=None,\n",
      "             min_child_weight=None, missing=nan, monotone_constraints=None,\n",
      "             n_estimators=100, n_jobs=None, num_parallel_tree=None,\n",
      "             predictor=None, random_state=None, reg_alpha=None, reg_lambda=None,\n",
      "             scale_pos_weight=None, subsample=None, tree_method=None,\n",
      "             validate_parameters=None, verbosity=0)\n",
      "Training score:  0.024476395633186376\n",
      "MSE: 2.34\n",
      "RMSE: 1.53\n",
      "K-fold CV average score: -0.05\n",
      "Accuracy: 94.58%\n",
      "XGBRegressor(base_score=None, booster='gblinear', colsample_bylevel=None,\n",
      "             colsample_bynode=None, colsample_bytree=None,\n",
      "             enable_categorical=False, gamma=None, gpu_id=None,\n",
      "             importance_type=None, interaction_constraints=None,\n",
      "             learning_rate=None, max_delta_step=None, max_depth=None,\n",
      "             min_child_weight=None, missing=nan, monotone_constraints=None,\n",
      "             n_estimators=100, n_jobs=None, num_parallel_tree=None,\n",
      "             predictor=None, random_state=None, reg_alpha=None, reg_lambda=None,\n",
      "             scale_pos_weight=None, subsample=None, tree_method=None,\n",
      "             validate_parameters=None, verbosity=0)\n",
      "Training score:  0.0\n",
      "MSE: 0.00\n",
      "RMSE: 0.00\n",
      "K-fold CV average score: 0.00\n",
      "Accuracy: 100.00%\n"
     ]
    }
   ],
   "source": [
    "from xgboost import XGBRegressor\n",
    "from sklearn.model_selection import cross_val_score, KFold\n",
    "from sklearn.model_selection import train_test_split\n",
    "from sklearn.metrics import mean_squared_error\n",
    "from sklearn.metrics import accuracy_score\n",
    "import numpy as np\n",
    "\n",
    "seed = 40\n",
    "test_size = 0.2\n",
    "\n",
    "df_list = [Flood, Flashflood, Inundation, Landslide, Hail, Gale, HeavyRainfall, Subsidenceandcollapse]\n",
    "names = ['Flood','Flashflood', 'Inundation', 'Landslide', 'Hail','Gale','HeavyRainfall','Subsidenceandcollapse']\n",
    "\n",
    "#df_list = [Northeast, North, South, Southeast, Midwest]\n",
    "#names = ['Northeast','North', 'South', 'Southeast', 'Midwest']\n",
    "\n",
    "knn_r_acc = []\n",
    "name_index = 0\n",
    "for name, df in zip(names, df_list):\n",
    "    X = df[['Population','IDH.M_Income2000','IDH.M_Longevity2010','IDH.M_Education2010','Verypoor1991']].values\n",
    "    y = df['Deceased'].values\n",
    "    x_train,x_test,y_train,y_test = train_test_split (X,y,test_size=test_size,random_state = seed)\n",
    "    \n",
    "    xgbr = XGBRegressor(verbosity=0, booster = \"gblinear\") \n",
    "    print(xgbr)\n",
    "    xgbr.fit(x_train, y_train)\n",
    "    score = xgbr.score(x_train, y_train)  \n",
    "    print(\"Training score: \", score)\n",
    "\n",
    "    ypred = xgbr.predict(x_test)\n",
    "\n",
    "    mse = mean_squared_error(y_test, ypred)\n",
    "    print(\"MSE: %.2f\" % mse)\n",
    "    print(\"RMSE: %.2f\" % (mse**(1/2.0)))\n",
    "\n",
    "    #Training Cross Validation\n",
    "    scores = cross_val_score(XGBRegressor(objective='reg:squarederror'), X, y, scoring='neg_mean_squared_error')\n",
    "    (-scores)**0.5\n",
    "\n",
    "    kfold = KFold(n_splits=10, shuffle=True)\n",
    "    kf_cv_scores = cross_val_score(xgbr, x_train, y_train, cv=kfold )\n",
    "    print(\"K-fold CV average score: %.2f\" % kf_cv_scores.mean())\n",
    "\n",
    "    predictions = [round(value) for value in ypred]\n",
    "    accuracy = accuracy_score(y_test, predictions)\n",
    "    print(\"Accuracy: %.2f%%\" % (accuracy * 100.0))\n",
    "\n",
    "    knn_r_acc.append((names[name_index],predictions,y))\n",
    "\n",
    "    name_index += 1\n",
    "\n",
    "\n",
    "\n",
    "\n"
   ]
  }
 ],
 "metadata": {
  "kernelspec": {
   "display_name": "Python 3 (ipykernel)",
   "language": "python",
   "name": "python3"
  },
  "language_info": {
   "codemirror_mode": {
    "name": "ipython",
    "version": 3
   },
   "file_extension": ".py",
   "mimetype": "text/x-python",
   "name": "python",
   "nbconvert_exporter": "python",
   "pygments_lexer": "ipython3",
   "version": "3.9.7"
  }
 },
 "nbformat": 4,
 "nbformat_minor": 5
}
