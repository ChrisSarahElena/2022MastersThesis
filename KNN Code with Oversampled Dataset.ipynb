{
 "cells": [
  {
   "cell_type": "code",
   "execution_count": 217,
   "id": "a96ac493",
   "metadata": {},
   "outputs": [
    {
     "name": "stdout",
     "output_type": "stream",
     "text": [
      "Requirement already satisfied: pandas in c:\\users\\sarah\\anaconda3\\envs\\my-conda-env\\lib\\site-packages (1.4.1)\n",
      "Requirement already satisfied: python-dateutil>=2.8.1 in c:\\users\\sarah\\anaconda3\\envs\\my-conda-env\\lib\\site-packages (from pandas) (2.8.2)\n",
      "Requirement already satisfied: numpy>=1.18.5 in c:\\users\\sarah\\anaconda3\\envs\\my-conda-env\\lib\\site-packages (from pandas) (1.22.2)\n",
      "Requirement already satisfied: pytz>=2020.1 in c:\\users\\sarah\\anaconda3\\envs\\my-conda-env\\lib\\site-packages (from pandas) (2021.3)\n",
      "Note: you may need to restart the kernel to use updated packages.\n",
      "Requirement already satisfied: six>=1.5 in c:\\users\\sarah\\anaconda3\\envs\\my-conda-env\\lib\\site-packages (from python-dateutil>=2.8.1->pandas) (1.16.0)\n"
     ]
    }
   ],
   "source": [
    "pip install pandas"
   ]
  },
  {
   "cell_type": "code",
   "execution_count": 218,
   "id": "a6817a3d",
   "metadata": {},
   "outputs": [
    {
     "name": "stdout",
     "output_type": "stream",
     "text": [
      "Requirement already satisfied: xlrd in c:\\users\\sarah\\anaconda3\\envs\\my-conda-env\\lib\\site-packages (2.0.1)\n",
      "Note: you may need to restart the kernel to use updated packages.\n"
     ]
    }
   ],
   "source": [
    "pip install xlrd"
   ]
  },
  {
   "cell_type": "code",
   "execution_count": 219,
   "id": "9ac065d6",
   "metadata": {},
   "outputs": [],
   "source": [
    "import pandas as pd"
   ]
  },
  {
   "cell_type": "code",
   "execution_count": 220,
   "id": "25b17859",
   "metadata": {},
   "outputs": [],
   "source": [
    "df_train = pd.read_excel(\"Downloads\\Oversampled_dataset_Final.xlsx\")"
   ]
  },
  {
   "cell_type": "code",
   "execution_count": 221,
   "id": "2d3bca15",
   "metadata": {
    "scrolled": true
   },
   "outputs": [],
   "source": [
    "df_test = pd.read_excel(\"Downloads\\\\normalized_dataset_sqrt_TrainingSet.xlsx\")"
   ]
  },
  {
   "cell_type": "code",
   "execution_count": 222,
   "id": "85c920aa",
   "metadata": {},
   "outputs": [
    {
     "name": "stdout",
     "output_type": "stream",
     "text": [
      "Requirement already satisfied: scikit-learn in c:\\users\\sarah\\anaconda3\\envs\\my-conda-env\\lib\\site-packages (1.0.2)\n",
      "Requirement already satisfied: scipy>=1.1.0 in c:\\users\\sarah\\anaconda3\\envs\\my-conda-env\\lib\\site-packages (from scikit-learn) (1.8.0)\n",
      "Requirement already satisfied: numpy>=1.14.6 in c:\\users\\sarah\\anaconda3\\envs\\my-conda-env\\lib\\site-packages (from scikit-learn) (1.22.2)\n",
      "Requirement already satisfied: joblib>=0.11 in c:\\users\\sarah\\anaconda3\\envs\\my-conda-env\\lib\\site-packages (from scikit-learn) (1.1.0)\n",
      "Requirement already satisfied: threadpoolctl>=2.0.0 in c:\\users\\sarah\\anaconda3\\envs\\my-conda-env\\lib\\site-packages (from scikit-learn) (3.1.0)\n",
      "Note: you may need to restart the kernel to use updated packages.\n"
     ]
    }
   ],
   "source": [
    "pip install scikit-learn"
   ]
  },
  {
   "cell_type": "code",
   "execution_count": 223,
   "id": "cce228c4",
   "metadata": {},
   "outputs": [
    {
     "name": "stdout",
     "output_type": "stream",
     "text": [
      "       Event_Code  Type_Code  Deceased   Injured      Sick  Homeless  \\\n",
      "0      118.217718          1  1.796578  3.609047  4.751531  2.795556   \n",
      "1      111.956966          1  1.796578  0.698816  0.920034  0.541301   \n",
      "2      112.967542          1  1.796578  1.168570  1.538493  0.905170   \n",
      "3      112.925835          1  1.796578  1.149182  1.512969  0.890153   \n",
      "4      116.215069          1  1.796578  2.678141  3.525937  2.074479   \n",
      "...           ...        ...       ...       ...       ...       ...   \n",
      "34582  118.785521          1  0.000000  0.000000  0.000000  0.000000   \n",
      "34583  118.785521          1  0.000000  0.000000  0.000000  0.000000   \n",
      "34584  118.785521          1  0.000000  0.000000  0.000000  0.000000   \n",
      "34585  118.785521          1  0.000000  0.000000  0.000000  0.000000   \n",
      "34586  114.947814          1  0.000000  1.000000  0.000000  0.000000   \n",
      "\n",
      "       Displaced  MissingPeople       Other       Total  ...  \\\n",
      "0       1.614015       2.946775    0.000000   17.513501  ...   \n",
      "1       0.312520       0.570581    0.000000    4.839829  ...   \n",
      "2       0.522600       0.954133    0.000000    6.885544  ...   \n",
      "3       0.513930       0.938304    0.000000    6.801115  ...   \n",
      "4       1.197701       2.186693    0.000000   13.459529  ...   \n",
      "...          ...            ...         ...         ...  ...   \n",
      "34582   0.000000       0.000000    0.000000    0.000000  ...   \n",
      "34583   0.000000       0.000000   75.643903   75.643903  ...   \n",
      "34584   0.000000       0.000000    0.000000    0.000000  ...   \n",
      "34585   0.000000       0.000000  112.774111  112.774111  ...   \n",
      "34586   6.324555       0.000000    0.000000    7.324555  ...   \n",
      "\n",
      "       Two_Months_Prior_Altitude  Two_Months_Prior_Station_Latitude  \\\n",
      "0                      26.218641                           4.323342   \n",
      "1                      29.904537                           4.230143   \n",
      "2                      29.309580                           4.245187   \n",
      "3                      29.334134                           4.244566   \n",
      "4                      27.397662                           4.293530   \n",
      "...                          ...                                ...   \n",
      "34582                   6.971370                           2.428992   \n",
      "34583                  23.452079                           2.869863   \n",
      "34584                   5.142956                           1.957606   \n",
      "34585                  27.202941                           3.968907   \n",
      "34586                  26.687076                           4.556619   \n",
      "\n",
      "       Two_Months_Prior_Station_Longitude  Two_Months_Prior_Min_Distance_(m)  \\\n",
      "0                                6.656678                         100.680188   \n",
      "1                                6.538963                         113.211537   \n",
      "2                                6.557964                         111.188795   \n",
      "3                                6.557179                         111.272276   \n",
      "4                                6.619024                         104.688635   \n",
      "...                                   ...                                ...   \n",
      "34582                            5.932959                         352.692670   \n",
      "34583                            5.998819                         157.142726   \n",
      "34584                            6.207880                         258.300544   \n",
      "34585                            6.438815                          27.664655   \n",
      "34586                            6.547052                         196.513082   \n",
      "\n",
      "       Two_Months_Prior_Min_Distance_(km)  0-3_km  0-35_km  0-85_km  \\\n",
      "0                                3.183787       0        1        1   \n",
      "1                                3.580063       0        1        1   \n",
      "2                                3.516098       0        1        1   \n",
      "3                                3.518738       0        1        1   \n",
      "4                                3.310545       0        1        1   \n",
      "...                                   ...     ...      ...      ...   \n",
      "34582                           11.153122       0        0        0   \n",
      "34583                            4.969289       0        1        1   \n",
      "34584                            8.168180       0        0        1   \n",
      "34585                            0.874833       1        1        1   \n",
      "34586                            6.214289       0        0        1   \n",
      "\n",
      "       IsDeceased  IsTotal  \n",
      "0               1        1  \n",
      "1               1        1  \n",
      "2               1        1  \n",
      "3               1        1  \n",
      "4               1        1  \n",
      "...           ...      ...  \n",
      "34582           0        0  \n",
      "34583           0        1  \n",
      "34584           0        0  \n",
      "34585           0        1  \n",
      "34586           0        1  \n",
      "\n",
      "[34587 rows x 92 columns]\n"
     ]
    }
   ],
   "source": [
    "print(df_train)"
   ]
  },
  {
   "cell_type": "code",
   "execution_count": 224,
   "id": "1c7aa49a",
   "metadata": {},
   "outputs": [
    {
     "data": {
      "text/plain": [
       "Event_Code    0\n",
       "Type_Code     0\n",
       "Deceased      0\n",
       "Injured       0\n",
       "Sick          0\n",
       "             ..\n",
       "0-3_km        0\n",
       "0-35_km       0\n",
       "0-85_km       0\n",
       "IsDeceased    0\n",
       "IsTotal       0\n",
       "Length: 92, dtype: int64"
      ]
     },
     "execution_count": 224,
     "metadata": {},
     "output_type": "execute_result"
    }
   ],
   "source": [
    "df_train.isnull().sum()"
   ]
  },
  {
   "cell_type": "code",
   "execution_count": 246,
   "id": "19a331e2",
   "metadata": {},
   "outputs": [],
   "source": [
    "y_train = df_train['Total'].values\n",
    "y_test = df_test['Total'].values\n",
    "\n",
    "\n",
    "X_train = df_train[['IDH_M_2010','IDH_M_Education2010','Extremelypoor1991','Poor1991','IncomeVerypoor1991']].values\n",
    "\n",
    "X_test = df_test[['IDH_M_2010','IDH_M_Education2010','Extremelypoor1991','Poor1991','IncomeVerypoor1991']].values\n"
   ]
  },
  {
   "cell_type": "code",
   "execution_count": 247,
   "id": "c0166d55",
   "metadata": {},
   "outputs": [],
   "source": [
    "import numpy as np"
   ]
  },
  {
   "cell_type": "code",
   "execution_count": 248,
   "id": "b4366005",
   "metadata": {},
   "outputs": [],
   "source": [
    "from sklearn.neighbors import KNeighborsRegressor"
   ]
  },
  {
   "cell_type": "code",
   "execution_count": 249,
   "id": "6311e3ac",
   "metadata": {},
   "outputs": [],
   "source": [
    "#Scaling\n",
    "from sklearn.preprocessing import MinMaxScaler\n",
    "scaler = MinMaxScaler(feature_range=(0, 1))\n",
    "\n",
    "x_train_scaled = scaler.fit_transform(X_train)\n",
    "x_train = pd.DataFrame(x_train_scaled)\n",
    "\n",
    "x_test_scaled = scaler.fit_transform(X_test)\n",
    "x_test = pd.DataFrame(x_test_scaled)"
   ]
  },
  {
   "cell_type": "code",
   "execution_count": 250,
   "id": "8e508afa",
   "metadata": {},
   "outputs": [],
   "source": [
    "#import required packages\n",
    "from sklearn import neighbors\n",
    "from sklearn.metrics import mean_squared_error \n",
    "from math import sqrt"
   ]
  },
  {
   "cell_type": "code",
   "execution_count": 251,
   "id": "ddcfee3b",
   "metadata": {},
   "outputs": [
    {
     "name": "stdout",
     "output_type": "stream",
     "text": [
      "RMSE value for k=  1 is: 67.5722585637484\n",
      "RMSE value for k=  2 is: 61.97664829244264\n",
      "RMSE value for k=  3 is: 58.30873136918833\n",
      "RMSE value for k=  4 is: 57.220484231744834\n",
      "RMSE value for k=  5 is: 56.63786203040269\n",
      "RMSE value for k=  6 is: 56.30088955201239\n",
      "RMSE value for k=  7 is: 56.365923152350426\n",
      "RMSE value for k=  8 is: 56.66285943645513\n",
      "RMSE value for k=  9 is: 57.45312095034799\n",
      "RMSE value for k=  10 is: 57.34068594952936\n",
      "RMSE value for k=  11 is: 57.4589922756311\n",
      "RMSE value for k=  12 is: 57.615946749716294\n",
      "RMSE value for k=  13 is: 57.90069866392165\n",
      "RMSE value for k=  14 is: 58.043065478867334\n",
      "RMSE value for k=  15 is: 58.286283319578686\n",
      "RMSE value for k=  16 is: 58.36249755284016\n",
      "RMSE value for k=  17 is: 58.45538595774853\n",
      "RMSE value for k=  18 is: 58.503224042727936\n",
      "RMSE value for k=  19 is: 58.22892161375123\n",
      "RMSE value for k=  20 is: 58.28159493296669\n"
     ]
    }
   ],
   "source": [
    "rmse_val = [] #to store rmse values for different k\n",
    "for K in range(20):\n",
    "    K = K+1\n",
    "    model = neighbors.KNeighborsRegressor(n_neighbors = K)\n",
    "\n",
    "    model.fit(x_train, y_train)  #fit the model\n",
    "    pred=model.predict(x_test) #make prediction on test set\n",
    "    error = sqrt(mean_squared_error(y_test,pred)) #calculate rmse\n",
    "    rmse_val.append(error) #store rmse values\n",
    "    print('RMSE value for k= ' , K , 'is:', error)"
   ]
  },
  {
   "cell_type": "code",
   "execution_count": 252,
   "id": "2e2db62e",
   "metadata": {},
   "outputs": [
    {
     "name": "stdout",
     "output_type": "stream",
     "text": [
      "Requirement already satisfied: matplotlib in c:\\users\\sarah\\anaconda3\\envs\\my-conda-env\\lib\\site-packages (3.5.1)\n",
      "Requirement already satisfied: fonttools>=4.22.0 in c:\\users\\sarah\\anaconda3\\envs\\my-conda-env\\lib\\site-packages (from matplotlib) (4.29.1)\n",
      "Requirement already satisfied: python-dateutil>=2.7 in c:\\users\\sarah\\anaconda3\\envs\\my-conda-env\\lib\\site-packages (from matplotlib) (2.8.2)\n",
      "Requirement already satisfied: numpy>=1.17 in c:\\users\\sarah\\anaconda3\\envs\\my-conda-env\\lib\\site-packages (from matplotlib) (1.22.2)\n",
      "Requirement already satisfied: cycler>=0.10 in c:\\users\\sarah\\anaconda3\\envs\\my-conda-env\\lib\\site-packages (from matplotlib) (0.11.0)\n",
      "Requirement already satisfied: pyparsing>=2.2.1 in c:\\users\\sarah\\anaconda3\\envs\\my-conda-env\\lib\\site-packages (from matplotlib) (3.0.4)\n",
      "Requirement already satisfied: packaging>=20.0 in c:\\users\\sarah\\anaconda3\\envs\\my-conda-env\\lib\\site-packages (from matplotlib) (21.3)\n",
      "Requirement already satisfied: pillow>=6.2.0 in c:\\users\\sarah\\anaconda3\\envs\\my-conda-env\\lib\\site-packages (from matplotlib) (9.0.1)\n",
      "Requirement already satisfied: kiwisolver>=1.0.1 in c:\\users\\sarah\\anaconda3\\envs\\my-conda-env\\lib\\site-packages (from matplotlib) (1.3.2)\n",
      "Requirement already satisfied: six>=1.5 in c:\\users\\sarah\\anaconda3\\envs\\my-conda-env\\lib\\site-packages (from python-dateutil>=2.7->matplotlib) (1.16.0)\n",
      "Note: you may need to restart the kernel to use updated packages.\n"
     ]
    }
   ],
   "source": [
    "pip install matplotlib"
   ]
  },
  {
   "cell_type": "code",
   "execution_count": 253,
   "id": "6db484a4",
   "metadata": {},
   "outputs": [
    {
     "data": {
      "text/plain": [
       "{'n_neighbors': 20}"
      ]
     },
     "execution_count": 253,
     "metadata": {},
     "output_type": "execute_result"
    }
   ],
   "source": [
    "from sklearn.model_selection import GridSearchCV\n",
    "params = {'n_neighbors':[1,2,3,4,5,6,7,8,9, 10, 11,12,13,14,15,16,17,18,19,20]}\n",
    "\n",
    "knn = neighbors.KNeighborsRegressor()\n",
    "\n",
    "model = GridSearchCV(knn, params, cv=5)\n",
    "model.fit(X_train,y_train)\n",
    "model.best_params_"
   ]
  },
  {
   "cell_type": "code",
   "execution_count": 254,
   "id": "0608a8b0",
   "metadata": {},
   "outputs": [
    {
     "data": {
      "text/plain": [
       "<AxesSubplot:>"
      ]
     },
     "execution_count": 254,
     "metadata": {},
     "output_type": "execute_result"
    },
    {
     "data": {
      "image/png": "[encoded data removed]",
      "text/plain": [
       "<Figure size 432x288 with 1 Axes>"
      ]
     },
     "metadata": {
      "needs_background": "light"
     },
     "output_type": "display_data"
    }
   ],
   "source": [
    "#plotting the rmse values against k values\n",
    "curve = pd.DataFrame(rmse_val) #elbow curve\n",
    "curve.plot()"
   ]
  },
  {
   "cell_type": "code",
   "execution_count": 255,
   "id": "f307b4b8",
   "metadata": {},
   "outputs": [
    {
     "data": {
      "text/plain": [
       "{'n_neighbors': 20}"
      ]
     },
     "execution_count": 255,
     "metadata": {},
     "output_type": "execute_result"
    }
   ],
   "source": [
    "from sklearn.model_selection import GridSearchCV\n",
    "params = {'n_neighbors':[1,2,3,4,5,6,7,8,9, 10, 11,12,13,14,15,16,17,18,19,20]}\n",
    "\n",
    "knn = neighbors.KNeighborsRegressor()\n",
    "\n",
    "model = GridSearchCV(knn, params, cv=5)\n",
    "model.fit(X_train,y_train)\n",
    "model.best_params_"
   ]
  },
  {
   "cell_type": "code",
   "execution_count": 256,
   "id": "8a0dccdc",
   "metadata": {},
   "outputs": [],
   "source": [
    "reg = KNeighborsRegressor(n_neighbors = 1)"
   ]
  },
  {
   "cell_type": "code",
   "execution_count": 257,
   "id": "2a01f7ab",
   "metadata": {},
   "outputs": [
    {
     "data": {
      "text/plain": [
       "KNeighborsRegressor(n_neighbors=1)"
      ]
     },
     "execution_count": 257,
     "metadata": {},
     "output_type": "execute_result"
    }
   ],
   "source": [
    "#Fitting the model\n",
    "reg.fit(X_train, y_train)"
   ]
  },
  {
   "cell_type": "code",
   "execution_count": 258,
   "id": "5db286ec",
   "metadata": {},
   "outputs": [],
   "source": [
    "from sklearn.metrics import mean_squared_error as mse"
   ]
  },
  {
   "cell_type": "code",
   "execution_count": 259,
   "id": "3ac697d4",
   "metadata": {},
   "outputs": [
    {
     "name": "stdout",
     "output_type": "stream",
     "text": [
      "Test MSE   4500.649810303262\n"
     ]
    }
   ],
   "source": [
    "#Predicting over the test set\n",
    "test_predict = reg.predict(X_test)\n",
    "k = mse(test_predict, y_test)\n",
    "print('Test MSE  ',k)"
   ]
  },
  {
   "cell_type": "code",
   "execution_count": 260,
   "id": "7f427e05",
   "metadata": {},
   "outputs": [],
   "source": [
    "knn.fit(X_train,y_train)\n",
    "test_score = knn.score(X_test,y_test)\n",
    "train_score = knn.score(X_train,y_train)"
   ]
  },
  {
   "cell_type": "code",
   "execution_count": 261,
   "id": "67388d07",
   "metadata": {},
   "outputs": [
    {
     "name": "stdout",
     "output_type": "stream",
     "text": [
      "0.03920013394747923\n"
     ]
    }
   ],
   "source": [
    "print(test_score)"
   ]
  },
  {
   "cell_type": "code",
   "execution_count": 262,
   "id": "b9f792e2",
   "metadata": {
    "scrolled": true
   },
   "outputs": [
    {
     "name": "stdout",
     "output_type": "stream",
     "text": [
      "0.3977079616706787\n",
      "Accuracy=27.837921435199505%\n"
     ]
    }
   ],
   "source": [
    "print(train_score)\n",
    "\n",
    "pred=reg.predict(X_test)\n",
    "print(\"Accuracy={}%\".format((sum(y_test==pred)/y_test.shape[0])*100))"
   ]
  },
  {
   "cell_type": "code",
   "execution_count": 263,
   "id": "221a246b",
   "metadata": {},
   "outputs": [],
   "source": [
    "# Create an array\n",
    "knn_r_acc = []"
   ]
  },
  {
   "cell_type": "code",
   "execution_count": null,
   "id": "c754791c",
   "metadata": {},
   "outputs": [],
   "source": [
    "knn_r_acc.append((1, test_score ,train_score,\"Accuracy={}%\".format((sum(y_test==pred)/y_test.shape[0])*100)))"
   ]
  },
  {
   "cell_type": "code",
   "execution_count": null,
   "id": "2bd47b8e",
   "metadata": {},
   "outputs": [],
   "source": [
    "print(knn_r_acc)"
   ]
  },
  {
   "cell_type": "code",
   "execution_count": 195,
   "id": "179b4e67",
   "metadata": {},
   "outputs": [],
   "source": [
    "#Now we will do the same code, but with a smaller portion of the dataset, to adjust for distances\n",
    "#split the datasets into the distances and train/test\n",
    "\n",
    "zeroto3k_train = pd.read_excel(\"Downloads\\Oversampled_TestSet_0-3km.xlsx\")\n",
    "zeroto35k_train = pd.read_excel(\"Downloads\\Oversampled_TestSet_0-35km.xlsx\")\n",
    "zeroto85k_train = pd.read_excel(\"Downloads\\Oversampled_TestSet_0-85km.xlsx\")\n",
    "\n",
    "zeroto3k_test = pd.read_excel(\"Downloads\\TestSet_0-3km.xlsx\")\n",
    "zeroto35k_test = pd.read_excel(\"Downloads\\TestSet_0-35km.xlsx\")\n",
    "zeroto85k_test = pd.read_excel(\"Downloads\\TestSet_0-85km.xlsx\")\n"
   ]
  },
  {
   "cell_type": "code",
   "execution_count": 196,
   "id": "ea6e3286",
   "metadata": {},
   "outputs": [],
   "source": [
    "#Set up y train and test for each\n",
    "y_train_zeroto3k = zeroto3k_train['Deceased'].values\n",
    "y_test_zeroto3k = zeroto3k_test['Deceased'].values\n",
    "\n",
    "y_train_zeroto35k = zeroto35k_train['Deceased'].values\n",
    "y_test_zeroto35k = zeroto35k_test['Deceased'].values\n",
    "\n",
    "y_train_zeroto85k = zeroto85k_train['Deceased'].values\n",
    "y_test_zeroto85k = zeroto85k_test['Deceased'].values\n",
    "\n",
    "#set up x train and x test for each\n",
    "\n",
    "zeroto3k_X_train = zeroto3k_train[['One_Month_Prior_Daily_Average_Precipitation','One_Month_Prior_Maximum_Hourly_Regular_Temperature',\n",
    "                    'One_Month_Prior_Average_temperature_bulbo_seco',\n",
    "                 'One_Month_Prior_Altitude', 'One_Month_Prior_Station_Latitude', \n",
    "                    'Two_Months_Prior_Average_temperature_bulbo_seco']].values\n",
    "\n",
    "zeroto3k_X_test = zeroto3k_test[['One_Month_Prior_Daily_Average_Precipitation','One_Month_Prior_Maximum_Hourly_Regular_Temperature',\n",
    "                    'One_Month_Prior_Average_temperature_bulbo_seco',\n",
    "                 'One_Month_Prior_Altitude', 'One_Month_Prior_Station_Latitude', \n",
    "                    'Two_Months_Prior_Average_temperature_bulbo_seco']].values\n",
    "\n",
    "zeroto35k_X_train = zeroto35k_train[['One_Month_Prior_Daily_Average_Precipitation','One_Month_Prior_Maximum_Hourly_Regular_Temperature',\n",
    "                    'One_Month_Prior_Average_temperature_bulbo_seco',\n",
    "                 'One_Month_Prior_Altitude', 'One_Month_Prior_Station_Latitude', \n",
    "                    'Two_Months_Prior_Average_temperature_bulbo_seco']].values\n",
    "\n",
    "zeroto35k_X_test = zeroto35k_test[['One_Month_Prior_Daily_Average_Precipitation','One_Month_Prior_Maximum_Hourly_Regular_Temperature',\n",
    "                    'One_Month_Prior_Average_temperature_bulbo_seco',\n",
    "                 'One_Month_Prior_Altitude', 'One_Month_Prior_Station_Latitude', \n",
    "                    'Two_Months_Prior_Average_temperature_bulbo_seco']].values\n",
    "\n",
    "zeroto85k_X_train = zeroto85k_train[['One_Month_Prior_Daily_Average_Precipitation','One_Month_Prior_Maximum_Hourly_Regular_Temperature',\n",
    "                    'One_Month_Prior_Average_temperature_bulbo_seco',\n",
    "                 'One_Month_Prior_Altitude', 'One_Month_Prior_Station_Latitude', \n",
    "                    'Two_Months_Prior_Average_temperature_bulbo_seco']].values\n",
    "\n",
    "zeroto85k_X_test = zeroto85k_test[['One_Month_Prior_Daily_Average_Precipitation','One_Month_Prior_Maximum_Hourly_Regular_Temperature',\n",
    "                    'One_Month_Prior_Average_temperature_bulbo_seco',\n",
    "                 'One_Month_Prior_Altitude', 'One_Month_Prior_Station_Latitude', \n",
    "                    'Two_Months_Prior_Average_temperature_bulbo_seco']].values\n",
    "\n"
   ]
  },
  {
   "cell_type": "code",
   "execution_count": 197,
   "id": "6f929e17",
   "metadata": {},
   "outputs": [],
   "source": [
    "from sklearn.neighbors import KNeighborsRegressor\n",
    "\n",
    "#Scaling\n",
    "from sklearn.preprocessing import MinMaxScaler\n",
    "scaler = MinMaxScaler(feature_range=(0, 1))\n",
    "\n",
    "x_train_zeroto3k_scaled = scaler.fit_transform(zeroto3k_X_train)\n",
    "x_train_zeroto3k = pd.DataFrame(x_train_zeroto3k_scaled)\n",
    "\n",
    "x_test_zeroto3k_scaled = scaler.fit_transform(zeroto3k_X_test)\n",
    "x_test_zeroto3k = pd.DataFrame(x_test_zeroto3k_scaled)\n"
   ]
  },
  {
   "cell_type": "code",
   "execution_count": 198,
   "id": "5b04088c",
   "metadata": {},
   "outputs": [
    {
     "name": "stdout",
     "output_type": "stream",
     "text": [
      "RMSE value for k=  1 is: 0.8471889991312588\n",
      "RMSE value for k=  2 is: 0.8406293041630034\n",
      "RMSE value for k=  3 is: 0.8599909905622762\n",
      "RMSE value for k=  4 is: 0.8755186096495444\n",
      "RMSE value for k=  5 is: 0.8697908608833772\n",
      "RMSE value for k=  6 is: 0.8699527679461396\n",
      "RMSE value for k=  7 is: 0.8716181713349634\n",
      "RMSE value for k=  8 is: 0.8721187042209112\n",
      "RMSE value for k=  9 is: 0.8835001048757528\n",
      "RMSE value for k=  10 is: 0.8862324889993335\n",
      "RMSE value for k=  11 is: 0.8934201027268127\n",
      "RMSE value for k=  12 is: 0.8965723614800889\n",
      "RMSE value for k=  13 is: 0.8995821429463382\n",
      "RMSE value for k=  14 is: 0.9009430024201757\n",
      "RMSE value for k=  15 is: 0.9071837272863011\n",
      "RMSE value for k=  16 is: 0.9097550949299962\n",
      "RMSE value for k=  17 is: 0.91265318038895\n",
      "RMSE value for k=  18 is: 0.9180253279362011\n",
      "RMSE value for k=  19 is: 0.9206612900144276\n",
      "RMSE value for k=  20 is: 0.9229459501623769\n"
     ]
    }
   ],
   "source": [
    "#test values for 0-3k\n",
    "\n",
    "rmse_val = [] #to store rmse values for different k\n",
    "for K in range(20):\n",
    "    K = K+1\n",
    "    model = neighbors.KNeighborsRegressor(n_neighbors = K)\n",
    "\n",
    "    model.fit(x_train_zeroto3k, y_train_zeroto3k)  #fit the model\n",
    "    pred=model.predict(x_test_zeroto3k) #make prediction on test set\n",
    "    error = sqrt(mean_squared_error(y_test_zeroto3k,pred)) #calculate rmse\n",
    "    rmse_val.append(error) #store rmse values\n",
    "    print('RMSE value for k= ' , K , 'is:', error)\n",
    "    \n",
    "  "
   ]
  },
  {
   "cell_type": "code",
   "execution_count": 199,
   "id": "8f85b3d4",
   "metadata": {},
   "outputs": [
    {
     "data": {
      "text/plain": [
       "<AxesSubplot:>"
      ]
     },
     "execution_count": 199,
     "metadata": {},
     "output_type": "execute_result"
    },
    {
     "data": {
      "image/png": "[encoded data removed]",
      "text/plain": [
       "<Figure size 432x288 with 1 Axes>"
      ]
     },
     "metadata": {
      "needs_background": "light"
     },
     "output_type": "display_data"
    }
   ],
   "source": [
    "#Graph the k values\n",
    "#plotting the rmse values against k values\n",
    "curve = pd.DataFrame(rmse_val) #elbow curve\n",
    "curve.plot()"
   ]
  },
  {
   "cell_type": "code",
   "execution_count": 200,
   "id": "6265aeba",
   "metadata": {},
   "outputs": [
    {
     "data": {
      "text/plain": [
       "{'n_neighbors': 4}"
      ]
     },
     "execution_count": 200,
     "metadata": {},
     "output_type": "execute_result"
    }
   ],
   "source": [
    "\n",
    "from sklearn.model_selection import GridSearchCV\n",
    "params = {'n_neighbors':[1,2,3,4,5,6,7,8,9, 10, 11,12,13,14,15,16,17,18,19,20]}\n",
    "\n",
    "knn = neighbors.KNeighborsRegressor()\n",
    "\n",
    "model = GridSearchCV(knn, params, cv=5)\n",
    "model.fit(x_train_zeroto3k, y_train_zeroto3k)\n",
    "model.best_params_"
   ]
  },
  {
   "cell_type": "code",
   "execution_count": 201,
   "id": "a718a585",
   "metadata": {},
   "outputs": [],
   "source": [
    "\n",
    "#import required packages\n",
    "from sklearn import neighbors\n",
    "from sklearn.metrics import mean_squared_error \n",
    "from math import sqrt\n",
    "\n"
   ]
  },
  {
   "cell_type": "code",
   "execution_count": 204,
   "id": "af5eb5f8",
   "metadata": {},
   "outputs": [],
   "source": [
    "reg = KNeighborsRegressor(n_neighbors = 4)\n",
    "\n",
    "#Fitting the model\n",
    "reg.fit(x_train_zeroto3k, y_train_zeroto3k)\n",
    "from sklearn.metrics import mean_squared_error as mse\n"
   ]
  },
  {
   "cell_type": "code",
   "execution_count": 205,
   "id": "1e910c3a",
   "metadata": {},
   "outputs": [
    {
     "name": "stdout",
     "output_type": "stream",
     "text": [
      "Test MSE   0.7665328358426713\n",
      "-0.40386266696681994\n",
      "0.7612335476725218\n",
      "Accuracy=67.89473684210526%\n"
     ]
    }
   ],
   "source": [
    "#Predicting over the test set\n",
    "test_predict = reg.predict(x_test_zeroto3k)\n",
    "k = mse(test_predict, y_test_zeroto3k)\n",
    "print('Test MSE  ',k)\n",
    "knn = neighbors.KNeighborsRegressor()\n",
    "knn.fit(x_train_zeroto3k,y_train_zeroto3k)\n",
    "test_score = knn.score(x_test_zeroto3k,y_test_zeroto3k)\n",
    "train_score = knn.score(x_train_zeroto3k,y_train_zeroto3k)\n",
    "\n",
    "print(test_score)\n",
    "\n",
    "print(train_score)\n",
    "\n",
    "pred=reg.predict(x_test_zeroto3k)\n",
    "print(\"Accuracy={}%\".format((sum(y_test_zeroto3k==pred)/y_test_zeroto3k.shape[0])*100))\n",
    "\n"
   ]
  },
  {
   "cell_type": "code",
   "execution_count": 206,
   "id": "712c4dd7",
   "metadata": {},
   "outputs": [],
   "source": [
    "#Repeat for 0-35\n",
    "from sklearn.neighbors import KNeighborsRegressor\n",
    "\n",
    "#Scaling\n",
    "from sklearn.preprocessing import MinMaxScaler\n",
    "scaler = MinMaxScaler(feature_range=(0, 1))\n",
    "\n",
    "x_train_zeroto35k_scaled = scaler.fit_transform(zeroto35k_X_train)\n",
    "x_train_zeroto35k = pd.DataFrame(x_train_zeroto35k_scaled)\n",
    "\n",
    "x_test_zeroto35k_scaled = scaler.fit_transform(zeroto35k_X_test)\n",
    "x_test_zeroto35k = pd.DataFrame(x_test_zeroto35k_scaled)\n",
    "\n"
   ]
  },
  {
   "cell_type": "code",
   "execution_count": 207,
   "id": "bd8c1994",
   "metadata": {},
   "outputs": [
    {
     "name": "stdout",
     "output_type": "stream",
     "text": [
      "RMSE value for k=  1 is: 1.270918994642726\n",
      "RMSE value for k=  2 is: 1.2567045042348142\n",
      "RMSE value for k=  3 is: 1.2589504940442202\n",
      "RMSE value for k=  4 is: 1.2651049076928018\n",
      "RMSE value for k=  5 is: 1.2910749144532723\n",
      "RMSE value for k=  6 is: 1.3572680171553302\n",
      "RMSE value for k=  7 is: 1.3971056398318527\n",
      "RMSE value for k=  8 is: 1.4097576351906744\n",
      "RMSE value for k=  9 is: 1.446853847366364\n",
      "RMSE value for k=  10 is: 1.4296543120476608\n",
      "RMSE value for k=  11 is: 1.4200629138054686\n",
      "RMSE value for k=  12 is: 1.401545105457736\n",
      "RMSE value for k=  13 is: 1.3866316095391475\n",
      "RMSE value for k=  14 is: 1.374040885456708\n",
      "RMSE value for k=  15 is: 1.3718326160338616\n",
      "RMSE value for k=  16 is: 1.383748705979704\n",
      "RMSE value for k=  17 is: 1.3986709384481784\n",
      "RMSE value for k=  18 is: 1.388792156749093\n",
      "RMSE value for k=  19 is: 1.386667702957476\n",
      "RMSE value for k=  20 is: 1.397873129670123\n"
     ]
    }
   ],
   "source": [
    "#test values for 0-35k\n",
    "\n",
    "rmse_val = [] #to store rmse values for different k\n",
    "for K in range(20):\n",
    "    K = K+1\n",
    "    model = neighbors.KNeighborsRegressor(n_neighbors = K)\n",
    "\n",
    "    model.fit(x_train_zeroto35k, y_train_zeroto35k)  #fit the model\n",
    "    pred=model.predict(x_test_zeroto35k) #make prediction on test set\n",
    "    error = sqrt(mean_squared_error(y_test_zeroto35k,pred)) #calculate rmse\n",
    "    rmse_val.append(error) #store rmse values\n",
    "    print('RMSE value for k= ' , K , 'is:', error)"
   ]
  },
  {
   "cell_type": "code",
   "execution_count": 208,
   "id": "dabb9b65",
   "metadata": {},
   "outputs": [
    {
     "data": {
      "text/plain": [
       "{'n_neighbors': 19}"
      ]
     },
     "execution_count": 208,
     "metadata": {},
     "output_type": "execute_result"
    },
    {
     "data": {
      "image/png": "[encoded data removed]",
      "text/plain": [
       "<Figure size 432x288 with 1 Axes>"
      ]
     },
     "metadata": {
      "needs_background": "light"
     },
     "output_type": "display_data"
    }
   ],
   "source": [
    "#Graph the k values\n",
    "#plotting the rmse values against k values\n",
    "curve = pd.DataFrame(rmse_val) #elbow curve\n",
    "curve.plot()\n",
    "\n",
    "\n",
    "from sklearn.model_selection import GridSearchCV\n",
    "params = {'n_neighbors':[1,2,3,4,5,6,7,8,9, 10, 11,12,13,14,15,16,17,18,19,20]}\n",
    "\n",
    "knn = neighbors.KNeighborsRegressor()\n",
    "\n",
    "model = GridSearchCV(knn, params, cv=5)\n",
    "model.fit(x_train_zeroto35k, y_train_zeroto35k)\n",
    "model.best_params_"
   ]
  },
  {
   "cell_type": "code",
   "execution_count": 210,
   "id": "8e3a506f",
   "metadata": {},
   "outputs": [
    {
     "name": "stdout",
     "output_type": "stream",
     "text": [
      "Test MSE   1.9228473184253634\n",
      "-1.058831171769551\n",
      "0.6185151800057591\n",
      "Accuracy=31.627218934911244%\n"
     ]
    }
   ],
   "source": [
    "\n",
    "#import required packages\n",
    "from sklearn import neighbors\n",
    "from sklearn.metrics import mean_squared_error \n",
    "from math import sqrt\n",
    "\n",
    "reg = KNeighborsRegressor(n_neighbors = 19)\n",
    "\n",
    "#Fitting the model\n",
    "reg.fit(x_train_zeroto35k, y_train_zeroto35k)\n",
    "from sklearn.metrics import mean_squared_error as mse\n",
    "\n",
    "\n",
    "#Predicting over the test set\n",
    "test_predict = reg.predict(x_test_zeroto35k)\n",
    "k = mse(test_predict, y_test_zeroto35k)\n",
    "print('Test MSE  ',k)\n",
    "knn = neighbors.KNeighborsRegressor()\n",
    "knn.fit(x_train_zeroto35k,y_train_zeroto35k)\n",
    "test_score = knn.score(x_test_zeroto35k,y_test_zeroto35k)\n",
    "train_score = knn.score(x_train_zeroto35k,y_train_zeroto35k)\n",
    "\n",
    "print(test_score)\n",
    "\n",
    "print(train_score)\n",
    "\n",
    "pred=reg.predict(x_test_zeroto35k)\n",
    "print(\"Accuracy={}%\".format((sum(y_test_zeroto35k==pred)/y_test_zeroto35k.shape[0])*100))"
   ]
  },
  {
   "cell_type": "code",
   "execution_count": 211,
   "id": "ab5ad170",
   "metadata": {},
   "outputs": [],
   "source": [
    "#Repeat for 0-85\n",
    "from sklearn.neighbors import KNeighborsRegressor\n",
    "\n",
    "#Scaling\n",
    "from sklearn.preprocessing import MinMaxScaler\n",
    "scaler = MinMaxScaler(feature_range=(0, 1))\n",
    "\n",
    "x_train_zeroto85k_scaled = scaler.fit_transform(zeroto85k_X_train)\n",
    "x_train_zeroto85k = pd.DataFrame(x_train_zeroto85k_scaled)\n",
    "\n",
    "x_test_zeroto85k_scaled = scaler.fit_transform(zeroto85k_X_test)\n",
    "x_test_zeroto85k = pd.DataFrame(x_test_zeroto85k_scaled)\n",
    "\n",
    "\n"
   ]
  },
  {
   "cell_type": "code",
   "execution_count": 212,
   "id": "fdb25ee9",
   "metadata": {},
   "outputs": [
    {
     "name": "stdout",
     "output_type": "stream",
     "text": [
      "RMSE value for k=  1 is: 2.052451900380465\n",
      "RMSE value for k=  2 is: 1.591880042409112\n",
      "RMSE value for k=  3 is: 2.0392729683359327\n",
      "RMSE value for k=  4 is: 1.8874904895258693\n",
      "RMSE value for k=  5 is: 1.7173955652516126\n",
      "RMSE value for k=  6 is: 1.6171780109126668\n",
      "RMSE value for k=  7 is: 1.5597249951323602\n",
      "RMSE value for k=  8 is: 1.5746746643846588\n",
      "RMSE value for k=  9 is: 1.5465086339862186\n",
      "RMSE value for k=  10 is: 1.5234070804376252\n",
      "RMSE value for k=  11 is: 1.5788164619548264\n",
      "RMSE value for k=  12 is: 1.5544350083770253\n",
      "RMSE value for k=  13 is: 1.5396376916544412\n",
      "RMSE value for k=  14 is: 1.5262333035161935\n",
      "RMSE value for k=  15 is: 1.5199932635931621\n",
      "RMSE value for k=  16 is: 1.5092673930662486\n",
      "RMSE value for k=  17 is: 1.4974709696836264\n",
      "RMSE value for k=  18 is: 1.49065141259378\n",
      "RMSE value for k=  19 is: 1.4902647437067227\n",
      "RMSE value for k=  20 is: 1.4869371808339522\n"
     ]
    }
   ],
   "source": [
    "#test values for 0-85k\n",
    "\n",
    "rmse_val = [] #to store rmse values for different k\n",
    "for K in range(20):\n",
    "    K = K+1\n",
    "    model = neighbors.KNeighborsRegressor(n_neighbors = K)\n",
    "\n",
    "    model.fit(x_train_zeroto85k, y_train_zeroto85k)  #fit the model\n",
    "    pred=model.predict(x_test_zeroto85k) #make prediction on test set\n",
    "    error = sqrt(mean_squared_error(y_test_zeroto85k,pred)) #calculate rmse\n",
    "    rmse_val.append(error) #store rmse values\n",
    "    print('RMSE value for k= ' , K , 'is:', error)"
   ]
  },
  {
   "cell_type": "code",
   "execution_count": 213,
   "id": "e2589a96",
   "metadata": {},
   "outputs": [
    {
     "data": {
      "text/plain": [
       "{'n_neighbors': 2}"
      ]
     },
     "execution_count": 213,
     "metadata": {},
     "output_type": "execute_result"
    },
    {
     "data": {
      "image/png": "[encoded data removed]",
      "text/plain": [
       "<Figure size 432x288 with 1 Axes>"
      ]
     },
     "metadata": {
      "needs_background": "light"
     },
     "output_type": "display_data"
    }
   ],
   "source": [
    "#Graph the k values\n",
    "#plotting the rmse values against k values\n",
    "curve = pd.DataFrame(rmse_val) #elbow curve\n",
    "curve.plot()\n",
    "\n",
    "\n",
    "from sklearn.model_selection import GridSearchCV\n",
    "params = {'n_neighbors':[1,2,3,4,5,6,7,8,9, 10, 11,12,13,14,15,16,17,18,19,20]}\n",
    "\n",
    "knn = neighbors.KNeighborsRegressor()\n",
    "\n",
    "model = GridSearchCV(knn, params, cv=5)\n",
    "model.fit(x_train_zeroto85k, y_train_zeroto85k)\n",
    "model.best_params_"
   ]
  },
  {
   "cell_type": "code",
   "execution_count": 215,
   "id": "d9a87b33",
   "metadata": {},
   "outputs": [
    {
     "name": "stdout",
     "output_type": "stream",
     "text": [
      "Test MSE   2.534082069420436\n",
      "-2.791772212471027\n",
      "0.7160069264680298\n",
      "Accuracy=76.7132867132867%\n"
     ]
    }
   ],
   "source": [
    "#import required packages\n",
    "from sklearn import neighbors\n",
    "from sklearn.metrics import mean_squared_error \n",
    "from math import sqrt\n",
    "\n",
    "reg = KNeighborsRegressor(n_neighbors = 2)\n",
    "\n",
    "#Fitting the model\n",
    "reg.fit(x_train_zeroto85k, y_train_zeroto85k)\n",
    "from sklearn.metrics import mean_squared_error as mse\n",
    "\n",
    "\n",
    "#Predicting over the test set\n",
    "test_predict = reg.predict(x_test_zeroto85k)\n",
    "k = mse(test_predict, y_test_zeroto85k)\n",
    "print('Test MSE  ',k)\n",
    "knn = neighbors.KNeighborsRegressor()\n",
    "knn.fit(x_train_zeroto85k,y_train_zeroto85k)\n",
    "test_score = knn.score(x_test_zeroto85k,y_test_zeroto85k)\n",
    "train_score = knn.score(x_train_zeroto85k,y_train_zeroto85k)\n",
    "\n",
    "print(test_score)\n",
    "\n",
    "print(train_score)\n",
    "\n",
    "pred=reg.predict(x_test_zeroto85k)\n",
    "print(\"Accuracy={}%\".format((sum(y_test_zeroto85k==pred)/y_test_zeroto85k.shape[0])*100))"
   ]
  },
  {
   "cell_type": "code",
   "execution_count": null,
   "id": "d0a9aa7a",
   "metadata": {},
   "outputs": [],
   "source": []
  }
 ],
 "metadata": {
  "kernelspec": {
   "display_name": "Python 3 (ipykernel)",
   "language": "python",
   "name": "python3"
  },
  "language_info": {
   "codemirror_mode": {
    "name": "ipython",
    "version": 3
   },
   "file_extension": ".py",
   "mimetype": "text/x-python",
   "name": "python",
   "nbconvert_exporter": "python",
   "pygments_lexer": "ipython3",
   "version": "3.9.7"
  }
 },
 "nbformat": 4,
 "nbformat_minor": 5
}
